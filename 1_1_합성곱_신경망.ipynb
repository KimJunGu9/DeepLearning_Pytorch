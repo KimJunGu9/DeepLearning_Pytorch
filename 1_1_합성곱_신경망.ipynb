{
  "nbformat": 4,
  "nbformat_minor": 0,
  "metadata": {
    "colab": {
      "provenance": [],
      "gpuType": "T4",
      "authorship_tag": "ABX9TyNvItquOqkjhQhSDPPnG6UU",
      "include_colab_link": true
    },
    "kernelspec": {
      "name": "python3",
      "display_name": "Python 3"
    },
    "language_info": {
      "name": "python"
    },
    "accelerator": "GPU"
  },
  "cells": [
    {
      "cell_type": "markdown",
      "metadata": {
        "id": "view-in-github",
        "colab_type": "text"
      },
      "source": [
        "<a href=\"https://colab.research.google.com/github/KimJunGu9/DeepLearning_Pytorch/blob/main/1_1_%ED%95%A9%EC%84%B1%EA%B3%B1_%EC%8B%A0%EA%B2%BD%EB%A7%9D.ipynb\" target=\"_parent\"><img src=\"https://colab.research.google.com/assets/colab-badge.svg\" alt=\"Open In Colab\"/></a>"
      ]
    },
    {
      "cell_type": "code",
      "source": [
        "from google.colab import drive\n",
        "drive.mount('/content/drive/')"
      ],
      "metadata": {
        "colab": {
          "base_uri": "https://localhost:8080/"
        },
        "id": "kuZXOylIhrRo",
        "outputId": "2104e376-0c17-4d61-8f0a-93128fcbe412"
      },
      "execution_count": 1,
      "outputs": [
        {
          "output_type": "stream",
          "name": "stdout",
          "text": [
            "Mounted at /content/drive/\n"
          ]
        }
      ]
    },
    {
      "cell_type": "markdown",
      "source": [
        "### 라이브러리 호출"
      ],
      "metadata": {
        "id": "dMI32YLhXol3"
      }
    },
    {
      "cell_type": "code",
      "source": [
        "import numpy as np\n",
        "import matplotlib.pyplot as plt\n",
        "\n",
        "import torch\n",
        "import torch.nn as nn\n",
        "from torch.autograd import Variable\n",
        "import torch.nn.functional as F\n",
        "\n",
        "import torchvision\n",
        "import torchvision.transforms as transforms\n",
        "from torch.utils.data import Dataset, DataLoader"
      ],
      "metadata": {
        "id": "1nfBsBp7SZn5"
      },
      "execution_count": 2,
      "outputs": []
    },
    {
      "cell_type": "markdown",
      "source": [
        "### CPU 또는 GPU 장치 확인"
      ],
      "metadata": {
        "id": "Y3H5T6VXflZ_"
      }
    },
    {
      "cell_type": "code",
      "source": [
        "device = torch.device(\"cuda:0\" if torch.cuda.is_available() else \"cpu\")\n",
        "\n",
        "# 다수의 CPU를 사용한다면 nn.DataParalell를 사용"
      ],
      "metadata": {
        "id": "lfbFqTsrXwlY"
      },
      "execution_count": 3,
      "outputs": []
    },
    {
      "cell_type": "markdown",
      "source": [
        "### fashion_mnist 데이터셋 내려받기"
      ],
      "metadata": {
        "id": "1TtYT5KXX40H"
      }
    },
    {
      "cell_type": "code",
      "source": [
        "train_dataset = torchvision.datasets.FashionMNIST('/content/drive/MyDrive/DL_pytorch/chap05/data', download=True,\n",
        "                                                  transform=transforms.Compose([transforms.ToTensor()]))\n",
        "\n",
        "test_dataset = torchvision.datasets.FashionMNIST('/content/drive/MyDrive/DL_pytorch/chap05/data', download=True,\n",
        "                                                 train=False, transform=transforms.Compose([transforms.ToTensor()]))\n",
        "\n",
        "# transform : 이미지를 텐서(0~1)로 변경"
      ],
      "metadata": {
        "id": "ou0Zi8NSX8l_"
      },
      "execution_count": 4,
      "outputs": []
    },
    {
      "cell_type": "markdown",
      "source": [
        "### fashion_mnist 데이터를 데이터로더에 전달"
      ],
      "metadata": {
        "id": "X8eSduxAZLHP"
      }
    },
    {
      "cell_type": "code",
      "source": [
        "train_loader = torch.utils.data.DataLoader(train_dataset, batch_size = 100)\n",
        "test_loader = torch.utils.data.DataLoader(test_dataset, batch_size = 100)\n",
        "\n",
        "# torch.utils.data.DataLoader()를 사용하여 원하는 크기의 배치 단위로 데이터를 불러옴\n",
        "# train_dataset : 첫번째 파라미터, 데이터를 불러올 데이터셋을 지정"
      ],
      "metadata": {
        "id": "VGs2MT37ZgVb"
      },
      "execution_count": 5,
      "outputs": []
    },
    {
      "cell_type": "markdown",
      "source": [
        "### 분류에 사용될 클래스 정의"
      ],
      "metadata": {
        "id": "sW99WDtvZrWn"
      }
    },
    {
      "cell_type": "code",
      "source": [
        "labels_map = {0 : 'T-Shirt', 1 : 'Trouser', 2 : 'Pullover', 3 : 'Dress', 4 : 'Coat',\n",
        "              5 : 'Sandal', 6 : 'Shirt', 7 : 'Sneaker', 8 : 'Bag', 9 : 'Ankle Boot'}\n",
        "\n",
        "\n",
        "fig = plt.figure(figsize = (8, 8))\n",
        "columns = 4;\n",
        "rows = 5;\n",
        "\n",
        "\n",
        "for i in range(1, columns * rows + 1):\n",
        "  img_xy = np.random.randint(len(train_dataset));\n",
        "  img = train_dataset[img_xy][0][0, :, :]  # train_dataset을 이용한 3차원 배열을 생성\n",
        "  fig.add_subplot(rows, columns, i)\n",
        "  plt.title(labels_map[train_dataset[img_xy][1]])\n",
        "  plt.axis('off')\n",
        "  plt.imshow(img, cmap='gray')\n",
        "\n",
        "plt.show()\n",
        "\n",
        "# np.random.randint()는 이산형 분포를 갖는 데이터에서 무작위 표본을 추출"
      ],
      "metadata": {
        "id": "QDVee2tyZy2L",
        "colab": {
          "base_uri": "https://localhost:8080/",
          "height": 675
        },
        "outputId": "741842f2-816f-44f3-a3ad-9f89fde71025"
      },
      "execution_count": 6,
      "outputs": [
        {
          "output_type": "display_data",
          "data": {
            "text/plain": [
              "<Figure size 800x800 with 20 Axes>"
            ],
            "image/png": "[encoded data removed]"
          },
          "metadata": {}
        }
      ]
    },
    {
      "cell_type": "markdown",
      "source": [
        "### 심층 신경망 모델 생성"
      ],
      "metadata": {
        "id": "Cz24JrubY5At"
      }
    },
    {
      "cell_type": "code",
      "source": [
        "class FashionDNN(nn.Module):\n",
        "  def __init__(self):\n",
        "    super(FashionDNN, self).__init__()\n",
        "    self.fc1 = nn.Linear(in_features = 784, out_features = 256) # 입력 크기 : 784, 출력크기 : 256\n",
        "    self.drop = nn.Dropout(0.25) # 과대적합되지않게 0.25를 버리고 0.75를 학습\n",
        "    self.fc2 = nn.Linear(in_features = 256, out_features = 128)\n",
        "    self.fc3 = nn.Linear(in_features = 128, out_features = 10)\n",
        "\n",
        "  def forward(self, input_data):  # 순전파\n",
        "    out = input_data.view(-1, 784)  # (-1,784)는 (?, 784)의 크기로 변경하라는 의미.\n",
        "                                    # 첫번재 차원(-1)은 사용자가 잘 모르겠으니 파이토치에 맡기겠다는 의미\n",
        "                                    # (2차원텐서로 변경하되 (?, 784)의 크기로 변경하라)\n",
        "    out = F.relu(self.fc1(out))\n",
        "    out = self.drop(out)\n",
        "    out = F.relu(self.fc2(out))\n",
        "    out = self.fc3(out)\n",
        "    return out"
      ],
      "metadata": {
        "id": "86-8ZC7ijM05"
      },
      "execution_count": 7,
      "outputs": []
    },
    {
      "cell_type": "markdown",
      "source": [
        "### 심층 신경망에서 필요한 파라미터 정의"
      ],
      "metadata": {
        "id": "k3En1OHEkA4Q"
      }
    },
    {
      "cell_type": "code",
      "source": [
        "learning_rate = 0.001;\n",
        "model = FashionDNN();\n",
        "model.to(device)\n",
        "\n",
        "\n",
        "criterion = nn.CrossEntropyLoss();\n",
        "optimizer = torch.optim.Adam(model.parameters(), lr = learning_rate);\n",
        "# 옵티마이저를 위한 경사하강법은 Adam을 사용\n",
        "\n",
        "print(model)"
      ],
      "metadata": {
        "colab": {
          "base_uri": "https://localhost:8080/"
        },
        "id": "-HtZ0L-9lU9o",
        "outputId": "31269efc-2c95-48e7-cf41-4346be6ed24b"
      },
      "execution_count": 8,
      "outputs": [
        {
          "output_type": "stream",
          "name": "stdout",
          "text": [
            "FashionDNN(\n",
            "  (fc1): Linear(in_features=784, out_features=256, bias=True)\n",
            "  (drop): Dropout(p=0.25, inplace=False)\n",
            "  (fc2): Linear(in_features=256, out_features=128, bias=True)\n",
            "  (fc3): Linear(in_features=128, out_features=10, bias=True)\n",
            ")\n"
          ]
        }
      ]
    },
    {
      "cell_type": "markdown",
      "source": [
        "### 심층 신경망을 이용한 모델 학습"
      ],
      "metadata": {
        "id": "6zgWG58Pllsv"
      }
    },
    {
      "cell_type": "code",
      "source": [
        "num_epochs = 5\n",
        "count = 0\n",
        "loss_list = []\n",
        "iteration_list = []\n",
        "accuracy_list = []\n",
        "\n",
        "predictions_list = []\n",
        "labels_list = []\n",
        "\n",
        "\n",
        "for epoch in range(num_epochs):\n",
        "  for images, labels in train_loader:\n",
        "    images, labels = images.to(device), labels.to(device)\n",
        "\n",
        "    train = Variable(images.view(100, 1, 28, 28))  # Variable을 사용하여 역전파를 위한 미분 값을 자동으로 계산함\n",
        "    labels = Variable(labels)\n",
        "\n",
        "    outputs = model(train)  # 학습데이터를 모델에 적용\n",
        "    loss = criterion(outputs, labels)\n",
        "\n",
        "    optimizer.zero_grad()\n",
        "    loss.backward()\n",
        "    optimizer.step()\n",
        "\n",
        "    count += 1\n",
        "\n",
        "    if not (count % 50): # count를 50으로 나누었을때 나머지가 0이 아니라면 실행\n",
        "      total = 0\n",
        "      correct = 0\n",
        "      for images, labels in test_loader:\n",
        "        images, labels = images.to(device), labels.to(device)\n",
        "        labels_list.append(labels)\n",
        "\n",
        "        test = Variable(images.view(100, 1, 28, 28))\n",
        "        outputs = model(test)\n",
        "        predictions = torch.max(outputs, 1)[1].to(device)\n",
        "        predictions_list.append(predictions)\n",
        "        correct += (predictions == labels).sum()\n",
        "        total += len(labels)\n",
        "\n",
        "      accuracy = correct * 100 / total  # 분류문제에 대한 정확도\n",
        "      loss_list.append(loss.data)\n",
        "      iteration_list.append(count)\n",
        "      accuracy_list.append(accuracy)\n",
        "\n",
        "    if not (count % 500):\n",
        "      print(\"Iteration : {}, Loss : {}, Accuracy : {}%\". format(count, loss.data, accuracy))"
      ],
      "metadata": {
        "colab": {
          "base_uri": "https://localhost:8080/"
        },
        "id": "JVrTq0vrmJjE",
        "outputId": "67505f7e-4009-44fe-96f2-737275e0543c"
      },
      "execution_count": 9,
      "outputs": [
        {
          "output_type": "stream",
          "name": "stdout",
          "text": [
            "Iteration : 500, Loss : 0.6062203645706177, Accuracy : 83.33999633789062%\n",
            "Iteration : 1000, Loss : 0.47227761149406433, Accuracy : 84.50999450683594%\n",
            "Iteration : 1500, Loss : 0.3651779294013977, Accuracy : 84.93999481201172%\n",
            "Iteration : 2000, Loss : 0.39236128330230713, Accuracy : 85.50999450683594%\n",
            "Iteration : 2500, Loss : 0.2304176539182663, Accuracy : 86.1199951171875%\n",
            "Iteration : 3000, Loss : 0.3631836175918579, Accuracy : 85.98999786376953%\n"
          ]
        }
      ]
    },
    {
      "cell_type": "markdown",
      "source": [
        "### 합성곱 네트워크 생성"
      ],
      "metadata": {
        "id": "F11PFGvvn2Ke"
      }
    },
    {
      "cell_type": "code",
      "source": [
        "class FashionCNN(nn.Module):\n",
        "  def __init__(self):\n",
        "    super(FashionCNN, self).__init__()\n",
        "    self.layer1 = nn.Sequential(  # 합성곱층\n",
        "        nn.Conv2d(in_channels = 1, out_channels = 32, kernel_size = 3, padding = 1),\n",
        "        nn.BatchNorm2d(32),\n",
        "        nn.ReLU(),\n",
        "        nn.MaxPool2d(kernel_size = 2, stride = 2)\n",
        "    )\n",
        "    self.layer2 = nn.Sequential(  # 합성곱층\n",
        "        nn.Conv2d(in_channels = 32, out_channels = 64, kernel_size = 3),\n",
        "        nn.BatchNorm2d(64),\n",
        "        nn.ReLU(),\n",
        "        nn.MaxPool2d(2)\n",
        "    )\n",
        "    self.fc1 = nn.Linear(in_features = 64 * 6 * 6, out_features = 600) # 완전연결층\n",
        "    self.drop = nn.Dropout2d(0.25)\n",
        "    self.fc2 = nn.Linear(in_features = 600, out_features = 120)\n",
        "    self.fc3 = nn.Linear(in_features = 120, out_features = 10)\n",
        "\n",
        "  def forward(self, x):\n",
        "    out = self.layer1(x)\n",
        "    out = self.layer2(out)\n",
        "    out = out.view(out.size(0), -1)  # 합성곱층에서 완전연결층으로 변경되기때문에 데이터의 형태를 1차원으로 바꿈\n",
        "                                     # out.size(0)은 64*6*6의미, -1은 ?\n",
        "    out = self.fc1(out)\n",
        "    out = self.drop(out)\n",
        "    out = self.fc2(out)\n",
        "    out = self.fc3(out)\n",
        "    return out\n",
        "\n",
        "# Sequential()을 사용하면 __init__()에서 사용할 네트워크 모델들을 정의해줌,\n",
        "# 그리고 forward()함수에서 구현될 순전파를 계층형태로 좀 더 가독성이 뛰어난 코드로 작성가능\n",
        "\n",
        "# in_channels : 입력 채널의 수. 흑백 이미지는 1, RGB값을 가진 이미지는 3\n",
        "# kernel_size : 커널크기를 의미, 필터라고도 불림. 이미지 특징을 찾아내기 위한 공용파라미터.\n",
        "#               입력데이터를 스트라이드 간격으로 순회하면서 합성곱을 계산\n",
        "#               3이라고 하면 커널의 크기는 (3, 3)으로 정사각형을 의미. 직사각형을 사용하고싶다면 (3,5)처럼 지정\n",
        "\n",
        "# padding : 출력 크기를 조정하기 위해 입력데이터 주위를 0으로 채움. 패딩값이 클수록 출력 크기도 커짐\n",
        "# BatchNorm2d : 각 배치 단위별로 데이터가 다양한 분포를 가지더라도 평균과 분산을 이용하여 정규화 하는 것\n",
        "# MaxPool2d : 이미지를 축소시키는 용도."
      ],
      "metadata": {
        "id": "1fUWb96Kp_Sn"
      },
      "execution_count": 10,
      "outputs": []
    },
    {
      "cell_type": "markdown",
      "source": [
        "### 합성곱 네트워크를 위한 파라미터 정의"
      ],
      "metadata": {
        "id": "YgbSYLCMrV6v"
      }
    },
    {
      "cell_type": "code",
      "source": [
        "learning_rate = 0.001;\n",
        "model = FashionCNN();\n",
        "model.to(device)\n",
        "\n",
        "criterion = nn.CrossEntropyLoss();\n",
        "optimizer = torch.optim.Adam(model.parameters(), lr = learning_rate);\n",
        "\n",
        "print(model)"
      ],
      "metadata": {
        "colab": {
          "base_uri": "https://localhost:8080/"
        },
        "id": "w3cme67tuOty",
        "outputId": "dd968a3c-345c-4078-a852-8afa4bdae10c"
      },
      "execution_count": 11,
      "outputs": [
        {
          "output_type": "stream",
          "name": "stdout",
          "text": [
            "FashionCNN(\n",
            "  (layer1): Sequential(\n",
            "    (0): Conv2d(1, 32, kernel_size=(3, 3), stride=(1, 1), padding=(1, 1))\n",
            "    (1): BatchNorm2d(32, eps=1e-05, momentum=0.1, affine=True, track_running_stats=True)\n",
            "    (2): ReLU()\n",
            "    (3): MaxPool2d(kernel_size=2, stride=2, padding=0, dilation=1, ceil_mode=False)\n",
            "  )\n",
            "  (layer2): Sequential(\n",
            "    (0): Conv2d(32, 64, kernel_size=(3, 3), stride=(1, 1))\n",
            "    (1): BatchNorm2d(64, eps=1e-05, momentum=0.1, affine=True, track_running_stats=True)\n",
            "    (2): ReLU()\n",
            "    (3): MaxPool2d(kernel_size=2, stride=2, padding=0, dilation=1, ceil_mode=False)\n",
            "  )\n",
            "  (fc1): Linear(in_features=2304, out_features=600, bias=True)\n",
            "  (drop): Dropout2d(p=0.25, inplace=False)\n",
            "  (fc2): Linear(in_features=600, out_features=120, bias=True)\n",
            "  (fc3): Linear(in_features=120, out_features=10, bias=True)\n",
            ")\n"
          ]
        }
      ]
    },
    {
      "cell_type": "markdown",
      "source": [
        "### 모델 학습 및 성능 평가"
      ],
      "metadata": {
        "id": "rD5YcWhDugvQ"
      }
    },
    {
      "cell_type": "code",
      "source": [
        "num_epochs = 5\n",
        "count = 0\n",
        "loss_list = []\n",
        "iteration_list = []\n",
        "accuracy_list = []\n",
        "\n",
        "predictions_list = []\n",
        "labels_list = []\n",
        "\n",
        "\n",
        "for epoch in range(num_epochs):\n",
        "  for images, labels in train_loader:\n",
        "    images, labels = images.to(device), labels.to(device)\n",
        "\n",
        "    train = Variable(images.view(100, 1, 28, 28))\n",
        "    labels = Variable(labels)\n",
        "\n",
        "    outputs = model(train)\n",
        "    loss = criterion(outputs, labels)\n",
        "\n",
        "    optimizer.zero_grad()\n",
        "    loss.backward()\n",
        "    optimizer.step()\n",
        "\n",
        "    count += 1\n",
        "\n",
        "    if not (count % 50):\n",
        "      total = 0\n",
        "      correct = 0\n",
        "      for images, labels in test_loader:\n",
        "        images, labels = images.to(device), labels.to(device)\n",
        "        labels_list.append(labels)\n",
        "\n",
        "        test = Variable(images.view(100, 1, 28, 28))\n",
        "        outputs = model(test)\n",
        "        predictions = torch.max(outputs, 1)[1].to(device)\n",
        "        predictions_list.append(predictions)\n",
        "        correct += (predictions == labels).sum()\n",
        "        total += len(labels)\n",
        "\n",
        "      accuracy = correct * 100 / total\n",
        "      loss_list.append(loss.data)\n",
        "      iteration_list.append(count)\n",
        "      accuracy_list.append(accuracy)\n",
        "\n",
        "    if not (count % 500):\n",
        "      print(\"Iteration : {}, Loss : {}, Accuracy : {}%\". format(count, loss.data, accuracy))"
      ],
      "metadata": {
        "colab": {
          "base_uri": "https://localhost:8080/"
        },
        "id": "popktjQquyMp",
        "outputId": "c3890b43-db88-4f0c-d6ef-e5ea41859115"
      },
      "execution_count": 12,
      "outputs": [
        {
          "output_type": "stream",
          "name": "stderr",
          "text": [
            "/usr/local/lib/python3.10/dist-packages/torch/nn/functional.py:1331: UserWarning: dropout2d: Received a 2-D input to dropout2d, which is deprecated and will result in an error in a future release. To retain the behavior and silence this warning, please use dropout instead. Note that dropout2d exists to provide channel-wise dropout on inputs with 2 spatial dimensions, a channel dimension, and an optional batch dimension (i.e. 3D or 4D inputs).\n",
            "  warnings.warn(warn_msg)\n"
          ]
        },
        {
          "output_type": "stream",
          "name": "stdout",
          "text": [
            "Iteration : 500, Loss : 0.45788195729255676, Accuracy : 88.22999572753906%\n",
            "Iteration : 1000, Loss : 0.31646254658699036, Accuracy : 88.45999908447266%\n",
            "Iteration : 1500, Loss : 0.3514040410518646, Accuracy : 88.18999481201172%\n",
            "Iteration : 2000, Loss : 0.28160008788108826, Accuracy : 88.47000122070312%\n",
            "Iteration : 2500, Loss : 0.12581223249435425, Accuracy : 89.30999755859375%\n",
            "Iteration : 3000, Loss : 0.1834673136472702, Accuracy : 89.4000015258789%\n"
          ]
        }
      ]
    },
    {
      "cell_type": "code",
      "source": [],
      "metadata": {
        "id": "SlzIfzl1u0hP"
      },
      "execution_count": null,
      "outputs": []
    }
  ]
}