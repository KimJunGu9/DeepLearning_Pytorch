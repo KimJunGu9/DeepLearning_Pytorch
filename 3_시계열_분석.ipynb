{
  "nbformat": 4,
  "nbformat_minor": 0,
  "metadata": {
    "colab": {
      "provenance": [],
      "gpuType": "T4",
      "authorship_tag": "ABX9TyN3xght6LaVYTxbiq6ROw9s",
      "include_colab_link": true
    },
    "kernelspec": {
      "name": "python3",
      "display_name": "Python 3"
    },
    "language_info": {
      "name": "python"
    },
    "accelerator": "GPU"
  },
  "cells": [
    {
      "cell_type": "markdown",
      "metadata": {
        "id": "view-in-github",
        "colab_type": "text"
      },
      "source": [
        "<a href=\"https://colab.research.google.com/github/KimJunGu9/DeepLearning_Pytorch/blob/main/3_%EC%8B%9C%EA%B3%84%EC%97%B4_%EB%B6%84%EC%84%9D.ipynb\" target=\"_parent\"><img src=\"https://colab.research.google.com/assets/colab-badge.svg\" alt=\"Open In Colab\"/></a>"
      ]
    },
    {
      "cell_type": "code",
      "source": [
        "from google.colab import drive\n",
        "drive.mount('/content/drive/')"
      ],
      "metadata": {
        "colab": {
          "base_uri": "https://localhost:8080/"
        },
        "id": "OMkODPm-Jax9",
        "outputId": "b6edf216-5b2e-40d9-fb61-48b705db586f"
      },
      "execution_count": 2,
      "outputs": [
        {
          "output_type": "stream",
          "name": "stdout",
          "text": [
            "Drive already mounted at /content/drive/; to attempt to forcibly remount, call drive.mount(\"/content/drive/\", force_remount=True).\n"
          ]
        }
      ]
    },
    {
      "cell_type": "markdown",
      "source": [
        "# LSTM Cell\n"
      ],
      "metadata": {
        "id": "yzfsMSjONloQ"
      }
    },
    {
      "cell_type": "markdown",
      "source": [
        "### 라이브러리 호출"
      ],
      "metadata": {
        "id": "5m21GhfbNOmN"
      }
    },
    {
      "cell_type": "code",
      "source": [
        "import torch\n",
        "import torch.nn as nn\n",
        "import torchvision.transforms as transforms\n",
        "import torchvision.datasets as dataset\n",
        "from torch.autograd import Variable\n",
        "from torch.nn import Parameter\n",
        "from torch import Tensor\n",
        "import torch.nn.functional as F\n",
        "from torch.utils.data import DataLoader\n",
        "import math\n",
        "\n",
        "device = torch.device('cuda:0' if torch.cuda.is_available() else 'cpu')\n",
        "cuda = True if torch.cuda.is_available() else False\n",
        "\n",
        "Tensor = torch.cuda.FloatTensor if cuda else torch.FloatTensor # GPU 사용에 필요\n",
        "\n",
        "torch.manual_seed(125)\n",
        "if torch.cuda.is_available():\n",
        "  torch.cuda.manual_seed_all(125)"
      ],
      "metadata": {
        "id": "mPUfSV50OKKJ"
      },
      "execution_count": 3,
      "outputs": []
    },
    {
      "cell_type": "markdown",
      "source": [
        "### 데이터 전처리"
      ],
      "metadata": {
        "id": "joFXWZIYOd5m"
      }
    },
    {
      "cell_type": "code",
      "source": [
        "import torchvision.transforms as transforms\n",
        "\n",
        "mnist_transform = transforms.Compose([\n",
        "    transforms.ToTensor(),\n",
        "    transforms.Normalize((0.5,), (1.0,)) # 평균을 0.5, 표준편차를 1.0으로 데이터 정규화\n",
        "])"
      ],
      "metadata": {
        "id": "ipK1zraLOiW0"
      },
      "execution_count": 4,
      "outputs": []
    },
    {
      "cell_type": "markdown",
      "source": [
        "### 데이터셋 내려받기"
      ],
      "metadata": {
        "id": "ldazPYV1O3OI"
      }
    },
    {
      "cell_type": "code",
      "source": [
        "from torchvision.datasets import MNIST\n",
        "\n",
        "download_root = 'MNIST_DATASET/' # MNIST를 내려받을 경로\n",
        "\n",
        "train_dataset = MNIST(download_root, transform=mnist_transform, train=True, download=True)\n",
        "valid_dataset = MNIST(download_root, transform=mnist_transform, train=False, download=True)\n",
        "test_dataset = MNIST(download_root, transform=mnist_transform, train=False, download=True)\n",
        "# transform : 앞에서 정의했던 데이터 전처리 적용\n",
        "# train : True로 설정할 경우 훈련용 데이터셋을 가져오지만, False로 설정할 경우 테스트용 데이터셋 가져옴\n",
        "# download : True로 설졍될경우 내려받으려는 위치가 MNIST파일이 없으면 내려받지만 파일이 있다면 내려받지않음"
      ],
      "metadata": {
        "colab": {
          "base_uri": "https://localhost:8080/"
        },
        "id": "x_W66ElUO8Vm",
        "outputId": "494cea67-39b3-4c85-846d-2ac680204d9b"
      },
      "execution_count": 5,
      "outputs": [
        {
          "output_type": "stream",
          "name": "stdout",
          "text": [
            "Downloading http://yann.lecun.com/exdb/mnist/train-images-idx3-ubyte.gz\n",
            "Downloading http://yann.lecun.com/exdb/mnist/train-images-idx3-ubyte.gz to MNIST_DATASET/MNIST/raw/train-images-idx3-ubyte.gz\n"
          ]
        },
        {
          "output_type": "stream",
          "name": "stderr",
          "text": [
            "100%|██████████| 9912422/9912422 [00:00<00:00, 144495573.09it/s]"
          ]
        },
        {
          "output_type": "stream",
          "name": "stdout",
          "text": [
            "Extracting MNIST_DATASET/MNIST/raw/train-images-idx3-ubyte.gz to MNIST_DATASET/MNIST/raw\n"
          ]
        },
        {
          "output_type": "stream",
          "name": "stderr",
          "text": [
            "\n"
          ]
        },
        {
          "output_type": "stream",
          "name": "stdout",
          "text": [
            "\n",
            "Downloading http://yann.lecun.com/exdb/mnist/train-labels-idx1-ubyte.gz\n",
            "Downloading http://yann.lecun.com/exdb/mnist/train-labels-idx1-ubyte.gz to MNIST_DATASET/MNIST/raw/train-labels-idx1-ubyte.gz\n"
          ]
        },
        {
          "output_type": "stream",
          "name": "stderr",
          "text": [
            "100%|██████████| 28881/28881 [00:00<00:00, 30659502.36it/s]\n"
          ]
        },
        {
          "output_type": "stream",
          "name": "stdout",
          "text": [
            "Extracting MNIST_DATASET/MNIST/raw/train-labels-idx1-ubyte.gz to MNIST_DATASET/MNIST/raw\n",
            "\n",
            "Downloading http://yann.lecun.com/exdb/mnist/t10k-images-idx3-ubyte.gz\n",
            "Downloading http://yann.lecun.com/exdb/mnist/t10k-images-idx3-ubyte.gz to MNIST_DATASET/MNIST/raw/t10k-images-idx3-ubyte.gz\n"
          ]
        },
        {
          "output_type": "stream",
          "name": "stderr",
          "text": [
            "100%|██████████| 1648877/1648877 [00:00<00:00, 38707625.21it/s]"
          ]
        },
        {
          "output_type": "stream",
          "name": "stdout",
          "text": [
            "Extracting MNIST_DATASET/MNIST/raw/t10k-images-idx3-ubyte.gz to MNIST_DATASET/MNIST/raw\n"
          ]
        },
        {
          "output_type": "stream",
          "name": "stderr",
          "text": [
            "\n"
          ]
        },
        {
          "output_type": "stream",
          "name": "stdout",
          "text": [
            "\n",
            "Downloading http://yann.lecun.com/exdb/mnist/t10k-labels-idx1-ubyte.gz\n",
            "Downloading http://yann.lecun.com/exdb/mnist/t10k-labels-idx1-ubyte.gz to MNIST_DATASET/MNIST/raw/t10k-labels-idx1-ubyte.gz\n"
          ]
        },
        {
          "output_type": "stream",
          "name": "stderr",
          "text": [
            "100%|██████████| 4542/4542 [00:00<00:00, 7216109.38it/s]\n"
          ]
        },
        {
          "output_type": "stream",
          "name": "stdout",
          "text": [
            "Extracting MNIST_DATASET/MNIST/raw/t10k-labels-idx1-ubyte.gz to MNIST_DATASET/MNIST/raw\n",
            "\n"
          ]
        }
      ]
    },
    {
      "cell_type": "markdown",
      "source": [
        "### 데이터셋을 메모리로 가져오기"
      ],
      "metadata": {
        "id": "CZluVXjqPAbV"
      }
    },
    {
      "cell_type": "code",
      "source": [
        "batch_size = 64\n",
        "\n",
        "train_loader = DataLoader(dataset = train_dataset,\n",
        "                          batch_size = batch_size,\n",
        "                          shuffle = True)\n",
        "\n",
        "valid_loader = DataLoader(dataset = valid_dataset,\n",
        "                          batch_size = batch_size,\n",
        "                          shuffle = True)\n",
        "\n",
        "test_loader = DataLoader(dataset = test_dataset,\n",
        "                          batch_size = batch_size,\n",
        "                          shuffle = True)"
      ],
      "metadata": {
        "id": "8Pp0gPUrPhNs"
      },
      "execution_count": 6,
      "outputs": []
    },
    {
      "cell_type": "markdown",
      "source": [
        "### 변수 값 지정"
      ],
      "metadata": {
        "id": "ITQe6q8wP3wM"
      }
    },
    {
      "cell_type": "code",
      "source": [
        "batch_size = 100\n",
        "n_iters = 6000\n",
        "\n",
        "num_epochs = n_iters / (len(train_dataset) / batch_size)\n",
        "num_epochs = int(num_epochs)"
      ],
      "metadata": {
        "id": "UYgjxHuvP6Go"
      },
      "execution_count": 7,
      "outputs": []
    },
    {
      "cell_type": "markdown",
      "source": [
        "### LSTM 셀 네트워크 구축"
      ],
      "metadata": {
        "id": "hZD1ZJJdQMh3"
      }
    },
    {
      "cell_type": "code",
      "source": [
        "class LSTMCell(nn.Module):\n",
        "  def __init__(self, input_size, hidden_size, bias = True):\n",
        "    super(LSTMCell, self).__init__()\n",
        "    self.input_size = input_size\n",
        "    self.hidden_size = hidden_size\n",
        "    self.bias = bias\n",
        "    self.x2h = nn.Linear(input_size, 4 * hidden_size, bias = bias) # gates가 4개로 쪼개지는 상황이기때문에 4가 곱해짐\n",
        "    self.h2h = nn.Linear(hidden_size, 4 * hidden_size, bias = bias)\n",
        "\n",
        "  def reset_parameters(self): # 모델의 파라미터 초기화\n",
        "    std = 1.0 / math.sqrt(self.hidden_size)\n",
        "    for w in self.parameters():\n",
        "      w.datat.uniform_(-std, std) # uniform : 난수를 위해 사용\n",
        "\n",
        "  def forward(self, x, hidden):\n",
        "    hx, cx = hidden\n",
        "    x = x.view(-1, x.size(1))\n",
        "\n",
        "    gates = self.x2h(x) + self.h2h(hx)\n",
        "    gates = gates.squeeze() # squeeze : 텐서의 차원을 줄일때 사용\n",
        "    ingate, forgetgate, cellgate, outgate = gates.chunk(4, 1)\n",
        "    # chunk(a,b) : a는 텐서를 몇개로 쪼갤지 설정, b는 어떤차원을 기준으로 쪼갤지 결정(dim=1이므로 열 단위로 텐서를 분할)\n",
        "\n",
        "    ingate = F.sigmoid(ingate) # 입력게이트에 시그모이드 활성화 함수 적용\n",
        "    forgetgate = F.sigmoid(forgetgate) # 망각게이트에 시그모이드 활성화 함수 적용\n",
        "    cellgate = F.tanh(cellgate) # 셀 게이트에 탄젠트 활성화 함수 적용\n",
        "    outgate = F.sigmoid(outgate) # 출력 게이트에 시그모이드 활성화 함수 적용\n",
        "\n",
        "    cy = torch.mul(cx, forgetgate) + torch.mul(ingate, cellgate) # mul : 텐서에 곱셈을 할 때 사용\n",
        "    hy = torch.mul(outgate, F.tanh(cy))\n",
        "    # 하나의 LSTM셀을 통과하면 셀 상태와 은닉 상태가 출력으로 주어짐\n",
        "    # 이때 셀 상태는 입력, 망각, 셀 게이트에 의해 계산되며, 은닉 상태는 출력 게이트에 의해 계산된다.\n",
        "    return (hy, cy)"
      ],
      "metadata": {
        "id": "_EAaL8c8QQSO"
      },
      "execution_count": 8,
      "outputs": []
    },
    {
      "cell_type": "markdown",
      "source": [
        "### LSTM 셀의 전반적인 네트워크"
      ],
      "metadata": {
        "id": "AskGoU2eTSkL"
      }
    },
    {
      "cell_type": "code",
      "source": [
        "class LSTMModel(nn.Module):\n",
        "  def __init__(self, input_dim, hidden_dim, layer_dim, output_dim, bias=True):\n",
        "    super(LSTMModel, self).__init__()\n",
        "    self.hidden_dim = hidden_dim # 은닉층의 뉴런/유닛 개수\n",
        "    self.layer_dim = layer_dim\n",
        "    self.lstm = LSTMCell(input_dim, hidden_dim, layer_dim)\n",
        "    self.fc = nn.Linear(hidden_dim, output_dim)\n",
        "    # input_dim : 입력에 대한 특성 수(칼럼 개수)\n",
        "    # hidden_dim : 은닉층의 뉴런 개수\n",
        "    # layer_dim : 은닉층의 계층 개수\n",
        "\n",
        "  def forward(self, x):\n",
        "    if torch.cuda.is_available(): # GPU 사용 유무 확인\n",
        "      h0 = Variable(torch.zeros(self.layer_dim, x.size(0), self.hidden_dim).cuda())\n",
        "      # (은닉층의 계층 개수, 배치 그기, 은닉층의 뉴런 개수)형태를 갖는 은닉 상태를 0으로 초기화\n",
        "    else:\n",
        "      h0 = Variable(torch.zeros(self.layer_dim, x.size(0), self.hidden_dim))\n",
        "\n",
        "    if torch.cuda.is_available(): # GPU 사용 유무 확인\n",
        "      c0 = Variable(torch.zeros(self.layer_dim, x.size(0), self.hidden_dim).cuda())\n",
        "    else:\n",
        "      c0 = Variable(torch.zeros(self.layer_dim, x.size(0), hidden_dim))\n",
        "      # (은닉층의 계층 개수, 배치 그기, 은닉층의 뉴런 개수)형태를 갖는 은닉 상태를 0으로 초기화\n",
        "\n",
        "    outs = []\n",
        "    cn = c0[0,:,:]  # (은닉층의 계층 개수, 배치 그기, 은닉층의 뉴런 개수) 크기를 갖는 셀 상태에 대한 텐서\n",
        "    hn = h0[0,:,:]  # (은닉층의 계층 개수, 배치 그기, 은닉층의 뉴런 개수) 크기를 갖는 은닉 상태에 대한 텐서\n",
        "\n",
        "    for seq in range(x.size(1)): # LSTM 셀 계층을 반복하여 쌓아 올린다\n",
        "      hn, cn = self.lstm(x[:,seq,:], (hn,cn)) # 은닉상태(hm)와 셀 상태를 LSTMCell에 적용한 결과를 또다시 hn,cn에 저장\n",
        "      outs.append(hn)\n",
        "\n",
        "    out = outs[-1].squeeze()\n",
        "    out = self.fc(out)\n",
        "    return out"
      ],
      "metadata": {
        "id": "JlVFYMB1TVra"
      },
      "execution_count": 12,
      "outputs": []
    },
    {
      "cell_type": "markdown",
      "source": [
        "### 옵티마이저와 손실 함수 지정"
      ],
      "metadata": {
        "id": "SGh2jGuOVD7S"
      }
    },
    {
      "cell_type": "code",
      "source": [
        "input_dim = 28\n",
        "hidden_dim = 128\n",
        "layer_dim = 1\n",
        "output_dim = 10\n",
        "\n",
        "model = LSTMModel(input_dim, hidden_dim, layer_dim, output_dim)\n",
        "\n",
        "if torch.cuda.is_available(): # GPU 사용 유무 확인\n",
        "  model.cuda()\n",
        "criterion = nn.CrossEntropyLoss()\n",
        "learning_rate = 0.1\n",
        "optimizer = torch.optim.SGD(model.parameters(), lr = learning_rate)"
      ],
      "metadata": {
        "id": "gEOnjF4FWZBy"
      },
      "execution_count": 14,
      "outputs": []
    },
    {
      "cell_type": "markdown",
      "source": [
        "### 모델 학습 및 성능"
      ],
      "metadata": {
        "id": "wekfQSXwX6ao"
      }
    },
    {
      "cell_type": "code",
      "source": [
        "seq_dim = 28\n",
        "loss_list = []\n",
        "iter = 0\n",
        "\n",
        "for epoch in range(num_epochs):\n",
        "  for i, (images, labels) in enumerate(train_loader): # 훈련 데이터셋을 이용한 모델 학습\n",
        "    if torch.cuda.is_available(): # GPU 사용 유무 확\n",
        "      images = Variable(images.view(-1, seq_dim, input_dim).cuda())\n",
        "      labels = Variable(labels.cuda())\n",
        "    else: # GPU를 사용하지 않기 때문에 else구문이 실행\n",
        "      images = Variable(images.view(-1, seq_dim, input_dim))\n",
        "      labels = Variable(labels)\n",
        "\n",
        "    optimizer.zero_grad()\n",
        "    outputs = model(images)\n",
        "    loss = criterion(outputs, labels) # 손실 함수를 이용하여 오차 계산\n",
        "\n",
        "    if torch.cuda.is_available():\n",
        "      loss.cuda()\n",
        "\n",
        "    loss.backward()\n",
        "    optimizer.step() # 파라미터 업데이트\n",
        "    loss_list.append(loss.item())\n",
        "    iter += 1\n",
        "\n",
        "    if iter % 500 == 0: # 정확도 계산\n",
        "      correct = 0\n",
        "      total = 0\n",
        "      for images, labels in valid_loader: # 검증 데이터셋을 이용한 모델 성능 검증\n",
        "        if torch.cuda.is_available():\n",
        "          images = Variable(images.view(-1, seq_dim, input_dim).cuda())\n",
        "        else:\n",
        "          images = Variable(images.view(-1 , seq_dim, input_dim))\n",
        "\n",
        "        outputs = model(images)\n",
        "        _, predicted = torch.max(outputs.data, 1) # 모델을 통과한 결과의 최댓값으로부터 예측 결과 가져오기\n",
        "\n",
        "        total += labels.size(0) # 총 레이블 수\n",
        "        if torch.cuda.is_available():\n",
        "          correct += (predicted.cpu() == labels.cpu()).sum()\n",
        "        else:\n",
        "          correct += (predicted == labels).sum()\n",
        "\n",
        "      accuracy = 100 * correct / total\n",
        "      print('Iteration: {}. Loss: {}. Accuracy: {}'.format(iter, loss.item(), accuracy))"
      ],
      "metadata": {
        "colab": {
          "base_uri": "https://localhost:8080/"
        },
        "id": "PZNRjxq2YEsZ",
        "outputId": "02008020-1419-4099-b3a5-882269ebeb0f"
      },
      "execution_count": 16,
      "outputs": [
        {
          "output_type": "stream",
          "name": "stdout",
          "text": [
            "Iteration: 500. Loss: 1.1335464715957642. Accuracy: 60.34000015258789\n",
            "Iteration: 1000. Loss: 0.30116981267929077. Accuracy: 86.91999816894531\n",
            "Iteration: 1500. Loss: 0.21445170044898987. Accuracy: 92.9000015258789\n",
            "Iteration: 2000. Loss: 0.09052927047014236. Accuracy: 94.43000030517578\n",
            "Iteration: 2500. Loss: 0.05544540658593178. Accuracy: 96.33999633789062\n",
            "Iteration: 3000. Loss: 0.0517357774078846. Accuracy: 96.43000030517578\n",
            "Iteration: 3500. Loss: 0.03511272743344307. Accuracy: 96.87999725341797\n",
            "Iteration: 4000. Loss: 0.09149031341075897. Accuracy: 96.80000305175781\n",
            "Iteration: 4500. Loss: 0.11361894756555557. Accuracy: 97.18000030517578\n",
            "Iteration: 5000. Loss: 0.03571777418255806. Accuracy: 97.45999908447266\n",
            "Iteration: 5500. Loss: 0.10462290793657303. Accuracy: 97.18000030517578\n",
            "Iteration: 6000. Loss: 0.14589880406856537. Accuracy: 97.73999786376953\n",
            "Iteration: 6500. Loss: 0.12766876816749573. Accuracy: 97.80999755859375\n",
            "Iteration: 7000. Loss: 0.0586576983332634. Accuracy: 97.88999938964844\n",
            "Iteration: 7500. Loss: 0.09065317362546921. Accuracy: 97.80999755859375\n",
            "Iteration: 8000. Loss: 0.008590465411543846. Accuracy: 98.11000061035156\n",
            "Iteration: 8500. Loss: 0.02142956107854843. Accuracy: 97.97000122070312\n",
            "Iteration: 9000. Loss: 0.040168698877096176. Accuracy: 98.2300033569336\n"
          ]
        }
      ]
    },
    {
      "cell_type": "markdown",
      "source": [
        "### 테스트 데이터셋을 이용한 모델 예측 성능 확인"
      ],
      "metadata": {
        "id": "KIqHBtR0ZgFH"
      }
    },
    {
      "cell_type": "code",
      "source": [
        "def evaluate(model, val_iter):\n",
        "  corrects, total, total_loss = 0, 0, 0\n",
        "  model.eval()\n",
        "\n",
        "  for images, labels in val_iter:\n",
        "    if torch.cuda.is_available():\n",
        "      images = Variable(images.view(-1, seq_dim, input_dim).cuda())\n",
        "    else:\n",
        "      images = Variable(images.view(-1 , seq_dim, input_dim)).to(device)\n",
        "\n",
        "    labels = labels.cuda()\n",
        "    logit = model(images).cuda()\n",
        "    loss = F.cross_entropy(logit, labels, reduction = \"sum\") # reduction='sum'을 지정했기 때문에 모든 오차를 더함\n",
        "    _, predicted = torch.max(logit.data, 1) # logit.data 텐서에서 최댓값의 인덱스를 반환\n",
        "    total += labels.size(0)\n",
        "    total_loss += loss.item()\n",
        "    corrects += (predicted == labels).sum()\n",
        "\n",
        "  avg_loss = total_loss / len(val_iter.dataset)\n",
        "  avg_accuracy = corrects / total\n",
        "  return avg_loss, avg_accuracy"
      ],
      "metadata": {
        "id": "rCbMx2ORaIx9"
      },
      "execution_count": 17,
      "outputs": []
    },
    {
      "cell_type": "markdown",
      "source": [
        "### 모델 예측 성능 확인"
      ],
      "metadata": {
        "id": "g8OqAvPxbzcG"
      }
    },
    {
      "cell_type": "code",
      "source": [
        "test_loss, test_acc = evaluate(model,test_loader)\n",
        "print(\"Test Loss: %5.2f | Test Accuracy: %5.2f\" % (test_loss, test_acc))"
      ],
      "metadata": {
        "colab": {
          "base_uri": "https://localhost:8080/"
        },
        "id": "ooJ9ns6tb2Z5",
        "outputId": "879e98e2-9395-4b3d-ab66-afae03c0fce6"
      },
      "execution_count": 18,
      "outputs": [
        {
          "output_type": "stream",
          "name": "stdout",
          "text": [
            "Test Loss:  0.06 | Test Accuracy:  0.98\n"
          ]
        }
      ]
    },
    {
      "cell_type": "markdown",
      "source": [
        "# LSTM"
      ],
      "metadata": {
        "id": "vSvE9xV8cMnk"
      }
    },
    {
      "cell_type": "markdown",
      "source": [
        "### 라이브러리 호출"
      ],
      "metadata": {
        "id": "xBAJ5Efpb3mH"
      }
    },
    {
      "cell_type": "code",
      "source": [
        "import os\n",
        "import time\n",
        "\n",
        "import numpy as np\n",
        "import pandas as pd\n",
        "import matplotlib.pyplot as plt\n",
        "\n",
        "import torch\n",
        "import torch.nn as nn\n",
        "from torch.utils.data import TensorDataset, DataLoader\n",
        "from torch.autograd import Variable\n",
        "from tqdm import tqdm_notebook\n",
        "from sklearn.preprocessing import StandardScaler, MinMaxScaler\n",
        "from sklearn.model_selection import train_test_split\n",
        "\n",
        "device = torch.device('cuda:0' if torch.cuda.is_available() else 'cpu')"
      ],
      "metadata": {
        "id": "Otu0xlVJcWBa"
      },
      "execution_count": 20,
      "outputs": []
    },
    {
      "cell_type": "markdown",
      "source": [
        "### 데이터셋 가져오기"
      ],
      "metadata": {
        "id": "ijoB7OYccXFF"
      }
    },
    {
      "cell_type": "code",
      "source": [
        "data=pd.read_csv('/content/drive/MyDrive/DL_pytorch/chap07/data/SBUX.csv')\n",
        "print(data.dtypes)"
      ],
      "metadata": {
        "colab": {
          "base_uri": "https://localhost:8080/"
        },
        "id": "dqPcsZfDdK7G",
        "outputId": "d84f6b38-96dd-48d7-f71e-0a2fadd76846"
      },
      "execution_count": 21,
      "outputs": [
        {
          "output_type": "stream",
          "name": "stdout",
          "text": [
            "Date          object\n",
            "Open         float64\n",
            "High         float64\n",
            "Low          float64\n",
            "Close        float64\n",
            "Adj Close    float64\n",
            "Volume         int64\n",
            "dtype: object\n"
          ]
        }
      ]
    },
    {
      "cell_type": "markdown",
      "source": [
        "### 날짜 칼럼을 인덱스로 사용"
      ],
      "metadata": {
        "id": "fVyTLWFfdNl4"
      }
    },
    {
      "cell_type": "code",
      "source": [
        "data['Date'] = pd.to_datetime(data['Date'])\n",
        "data.set_index('Date', inplace=True)"
      ],
      "metadata": {
        "id": "uxXvOfshdQRa"
      },
      "execution_count": 23,
      "outputs": []
    },
    {
      "cell_type": "markdown",
      "source": [
        "### 데이터 형식 변경"
      ],
      "metadata": {
        "id": "rCtKB6CVdaOL"
      }
    },
    {
      "cell_type": "code",
      "source": [
        "data['Volume'] = data['Volume'].astype(float)"
      ],
      "metadata": {
        "id": "pKdbzNM8df6R"
      },
      "execution_count": 24,
      "outputs": []
    },
    {
      "cell_type": "markdown",
      "source": [
        "### 훈련과 레이블 분리"
      ],
      "metadata": {
        "id": "bB40wz5kdmtv"
      }
    },
    {
      "cell_type": "code",
      "source": [
        "X=data.iloc[:,:-1] # 마지막 칼럼을 제외한 모든 칼럼을 x로 사용\n",
        "y=data.iloc[:,5:6] # 마지막 'Volume'을 레이블로 사용\n",
        "\n",
        "print(X)\n",
        "print(y)"
      ],
      "metadata": {
        "colab": {
          "base_uri": "https://localhost:8080/"
        },
        "id": "gTG2RMekdo-q",
        "outputId": "998a8c63-38eb-46b1-af8b-b69b48741cfa"
      },
      "execution_count": 25,
      "outputs": [
        {
          "output_type": "stream",
          "name": "stdout",
          "text": [
            "                  Open        High         Low       Close   Adj Close\n",
            "Date                                                                  \n",
            "2019-12-11   86.260002   86.870003   85.849998   86.589996   84.145752\n",
            "2019-12-12   88.000000   88.889999   87.540001   88.209999   85.720032\n",
            "2019-12-13   88.019997   88.790001   87.580002   88.669998   86.167046\n",
            "2019-12-16   89.139999   89.300003   88.430000   88.779999   86.273941\n",
            "2019-12-17   88.870003   88.970001   87.470001   88.129997   85.642288\n",
            "...                ...         ...         ...         ...         ...\n",
            "2020-12-04  101.349998  102.940002  101.070000  102.279999  101.442787\n",
            "2020-12-07  102.010002  102.220001  100.690002  101.410004  100.579918\n",
            "2020-12-08  100.370003  101.570000  100.010002  101.209999  100.381554\n",
            "2020-12-09  101.940002  102.209999  100.099998  100.400002   99.578186\n",
            "2020-12-10  103.510002  106.089996  102.750000  105.389999  104.527336\n",
            "\n",
            "[253 rows x 5 columns]\n",
            "                Volume\n",
            "Date                  \n",
            "2019-12-11   4921900.0\n",
            "2019-12-12  10282100.0\n",
            "2019-12-13   6714100.0\n",
            "2019-12-16   6705600.0\n",
            "2019-12-17   7296900.0\n",
            "...                ...\n",
            "2020-12-04   6952700.0\n",
            "2020-12-07   4514800.0\n",
            "2020-12-08   3911300.0\n",
            "2020-12-09   6629900.0\n",
            "2020-12-10  12939200.0\n",
            "\n",
            "[253 rows x 1 columns]\n"
          ]
        }
      ]
    },
    {
      "cell_type": "markdown",
      "source": [
        "### 데이터 분포 조정"
      ],
      "metadata": {
        "id": "F9DWOM7bdwqY"
      }
    },
    {
      "cell_type": "code",
      "source": [
        "ms = MinMaxScaler() # 데이터의 모든 값이 0~1 사이에 존재하도록 분산 조정\n",
        "ss = StandardScaler() # 데이터가 평균 0, 분산 1이 되도록 분산 조정\n",
        "\n",
        "X_ss = ss.fit_transform(X)\n",
        "y_ms = ms.fit_transform(y)\n",
        "\n",
        "X_train = X_ss[:200, :] # 훈련 데이터셋\n",
        "X_test = X_ss[200:, :] # 테스트 데이터셋\n",
        "\n",
        "y_train = y_ms[:200, :]\n",
        "y_test = y_ms[200:, :]\n",
        "\n",
        "print(\"Training Shape\", X_train.shape, y_train.shape)\n",
        "print(\"Testing Shape\", X_test.shape, y_test.shape)"
      ],
      "metadata": {
        "colab": {
          "base_uri": "https://localhost:8080/"
        },
        "id": "U1iep8rVdzkF",
        "outputId": "68c79b49-8616-464e-dc27-ac0645acb5b1"
      },
      "execution_count": 26,
      "outputs": [
        {
          "output_type": "stream",
          "name": "stdout",
          "text": [
            "Training Shape (200, 5) (200, 1)\n",
            "Testing Shape (53, 5) (53, 1)\n"
          ]
        }
      ]
    },
    {
      "cell_type": "markdown",
      "source": [
        "### 데이터셋의 형태 및 크기 조정"
      ],
      "metadata": {
        "id": "e1k1vggCd_8N"
      }
    },
    {
      "cell_type": "code",
      "source": [
        "X_train_tensors = Variable(torch.Tensor(X_train)) # Variable로 감싸진 텐서는 .backward()가 호출될때 자동으로 기울기가 계산\n",
        "X_test_tensors = Variable(torch.Tensor(X_test))\n",
        "\n",
        "y_train_tensors = Variable(torch.Tensor(y_train))\n",
        "y_test_tensors = Variable(torch.Tensor(y_test))\n",
        "\n",
        "X_train_tensors_f = torch.reshape(X_train_tensors,   (X_train_tensors.shape[0], 1, X_train_tensors.shape[1]))\n",
        "# reshape는 텐서의 형태를 바꿀 때 사용. 훈련 데이터셋(X_train_tensors)의 형태(200,5)를 (200,1,5)로 변경\n",
        "X_test_tensors_f = torch.reshape(X_test_tensors,  (X_test_tensors.shape[0], 1, X_test_tensors.shape[1]))\n",
        "\n",
        "\n",
        "print(\"Training Shape\", X_train_tensors_f.shape, y_train_tensors.shape)\n",
        "print(\"Testing Shape\", X_test_tensors_f.shape, y_test_tensors.shape)"
      ],
      "metadata": {
        "colab": {
          "base_uri": "https://localhost:8080/"
        },
        "id": "MSkS4kJ-eCLj",
        "outputId": "921764b8-a850-4f35-a1aa-3f7438853d4c"
      },
      "execution_count": 27,
      "outputs": [
        {
          "output_type": "stream",
          "name": "stdout",
          "text": [
            "Training Shape torch.Size([200, 1, 5]) torch.Size([200, 1])\n",
            "Testing Shape torch.Size([53, 1, 5]) torch.Size([53, 1])\n"
          ]
        }
      ]
    },
    {
      "cell_type": "markdown",
      "source": [
        "### LSTM네트워크"
      ],
      "metadata": {
        "id": "_iDKXAwDedRH"
      }
    },
    {
      "cell_type": "code",
      "source": [
        "class LSTM(nn.Module):\n",
        "  def __init__(self, num_classes, input_size, hidden_size, num_layers, seq_length):\n",
        "    super(LSTM, self).__init__()\n",
        "    self.num_classes = num_classes # 클래스 개수\n",
        "    self.num_layers = num_layers # LSTM 계층 개수\n",
        "    self.input_size = input_size # 입력 크기로 훈련 데이터셋의 칼럼 개수 의미\n",
        "    self.hidden_size = hidden_size # 은닉층의 뉴런 개수\n",
        "    self.seq_length = seq_length # 시퀀스 길이\n",
        "    self.lstm = nn.LSTM(input_size=input_size, hidden_size=hidden_size,\n",
        "                      num_layers=num_layers, batch_first=True) # LSTM 계층\n",
        "    self.fc_1 =  nn.Linear(hidden_size, 128) # 완전연결층\n",
        "    self.fc = nn.Linear(128, num_classes) # 출력층\n",
        "    self.relu = nn.ReLU()\n",
        "\n",
        "  def forward(self,x):\n",
        "    h_0 = Variable(torch.zeros(self.num_layers, x.size(0), self.hidden_size)) # 은닉 상태를 0으로 초기화\n",
        "    c_0 = Variable(torch.zeros(self.num_layers, x.size(0), self.hidden_size)) # 셀 상태를 0으로 초기화\n",
        "    output, (hn, cn) = self.lstm(x, (h_0, c_0)) # LSTM 계층에 은닉 상태와 셀 상태 적용\n",
        "    hn = hn.view(-1, self.hidden_size) # 완전연결층 적용을 위해 데이터의 형태 조정(1차원으로 조정)\n",
        "    out = self.relu(hn)\n",
        "    out = self.fc_1(out)\n",
        "    out = self.relu(out)\n",
        "    out = self.fc(out)\n",
        "    return out"
      ],
      "metadata": {
        "id": "jMY2rTlNeiDx"
      },
      "execution_count": 28,
      "outputs": []
    },
    {
      "cell_type": "markdown",
      "source": [
        "### 변수 값 설정"
      ],
      "metadata": {
        "id": "BZW-1scPffrm"
      }
    },
    {
      "cell_type": "code",
      "source": [
        "num_epochs = 1000\n",
        "learning_rate = 0.0001\n",
        "\n",
        "input_size = 5 # 입력 데이터셋의 칼럼(feature) 개수\n",
        "hidden_size = 2 # 은닉층의 뉴런/유닛 개수\n",
        "num_layers = 1 # LSTM 계층의 개수\n",
        "\n",
        "num_classes = 1 # 클래스 개수\n",
        "model = LSTM(num_classes, input_size, hidden_size, num_layers, X_train_tensors_f.shape[1])\n",
        "# 앞에서 정의한 값들을 이용하여 LSTM 모델 학습\n",
        "\n",
        "criterion = torch.nn.MSELoss()\n",
        "optimizer = torch.optim.Adam(model.parameters(), lr=learning_rate)"
      ],
      "metadata": {
        "id": "sZ7YMziEfhol"
      },
      "execution_count": 29,
      "outputs": []
    },
    {
      "cell_type": "markdown",
      "source": [
        "### 모델 학습"
      ],
      "metadata": {
        "id": "J_CQviLMf0Yw"
      }
    },
    {
      "cell_type": "code",
      "source": [
        "for epoch in range(num_epochs):\n",
        "  outputs = model.forward(X_train_tensors_f) # 전방향(forward) 학습\n",
        "  optimizer.zero_grad()\n",
        "  loss = criterion(outputs, y_train_tensors)\n",
        "  # 손실함수를 이용한 오차 계산(모델 학습 결과(output)와 레이블(y_train_tensors)의 차이 계산)\n",
        "  loss.backward() # 기울기 계산\n",
        "  optimizer.step() # 오차 업데이트\n",
        "\n",
        "  if epoch % 100 == 0: # 1000을 100으로 나누어 나머지가 0이면 출력\n",
        "      print(\"Epoch: %d, loss: %1.5f\" % (epoch, loss.item()))"
      ],
      "metadata": {
        "colab": {
          "base_uri": "https://localhost:8080/"
        },
        "id": "szYoG5Vnf1xt",
        "outputId": "d2503a52-b846-45c0-e000-e5a291dab0fc"
      },
      "execution_count": 30,
      "outputs": [
        {
          "output_type": "stream",
          "name": "stdout",
          "text": [
            "Epoch: 0, loss: 0.06710\n",
            "Epoch: 100, loss: 0.03971\n",
            "Epoch: 200, loss: 0.03896\n",
            "Epoch: 300, loss: 0.03795\n",
            "Epoch: 400, loss: 0.03665\n",
            "Epoch: 500, loss: 0.03541\n",
            "Epoch: 600, loss: 0.03445\n",
            "Epoch: 700, loss: 0.03378\n",
            "Epoch: 800, loss: 0.03332\n",
            "Epoch: 900, loss: 0.03299\n"
          ]
        }
      ]
    },
    {
      "cell_type": "markdown",
      "source": [
        "### 모델 예측 결과를 출력하기 위한 데이터 크기 재구성"
      ],
      "metadata": {
        "id": "3kW0Fw07gdZ5"
      }
    },
    {
      "cell_type": "code",
      "source": [
        "df_x_ss = ss.transform(data.iloc[:, :-1]) # 데이터 정규화(분포 조정)\n",
        "df_y_ms = ms.transform(data.iloc[:, -1:]) # 데이터 정규화\n",
        "\n",
        "df_x_ss = Variable(torch.Tensor(df_x_ss))\n",
        "df_y_ms = Variable(torch.Tensor(df_y_ms))\n",
        "df_x_ss = torch.reshape(df_x_ss, (df_x_ss.shape[0], 1, df_x_ss.shape[1]))"
      ],
      "metadata": {
        "id": "3jRywUeEgjIG"
      },
      "execution_count": 31,
      "outputs": []
    },
    {
      "cell_type": "markdown",
      "source": [
        "### 모델 예측 결과 출력"
      ],
      "metadata": {
        "id": "96U_Ci6Wgt9w"
      }
    },
    {
      "cell_type": "code",
      "source": [
        "train_predict = model(df_x_ss) # 훈련 데이터셋을 모델에 적용하여 모델 학습\n",
        "predicted = train_predict.data.numpy() # 모델 학습 결과를 넘파이로 변경\n",
        "label_y = df_y_ms.data.numpy()\n",
        "\n",
        "predicted= ms.inverse_transform(predicted)\n",
        "# 모델학습을 위해 전처리(정규화)했던 것을 해제(그래프의 본래 값을 출력하기위한 목적)\n",
        "label_y = ms.inverse_transform(label_y)\n",
        "\n",
        "plt.figure(figsize=(10,6))\n",
        "plt.axvline(x=200, c='r', linestyle='--')\n",
        "\n",
        "plt.plot(label_y, label='Actual Data')\n",
        "plt.plot(predicted, label='Predicted Data')\n",
        "plt.title('Time-Series Prediction')\n",
        "plt.legend()\n",
        "plt.show()"
      ],
      "metadata": {
        "colab": {
          "base_uri": "https://localhost:8080/",
          "height": 545
        },
        "id": "nHQqKiOhgwG-",
        "outputId": "a699658b-4559-466b-c789-da36267befb3"
      },
      "execution_count": 32,
      "outputs": [
        {
          "output_type": "display_data",
          "data": {
            "text/plain": [
              "<Figure size 1000x600 with 1 Axes>"
            ],
            "image/png": "[encoded data removed]"
          },
          "metadata": {}
        }
      ]
    },
    {
      "cell_type": "markdown",
      "source": [
        "# GRU Cell"
      ],
      "metadata": {
        "id": "uCNKAdkLhBWX"
      }
    },
    {
      "cell_type": "markdown",
      "source": [
        "### 라이브러리 호출"
      ],
      "metadata": {
        "id": "8LGpzKlGhSPw"
      }
    },
    {
      "cell_type": "code",
      "source": [
        "import torch\n",
        "import torch.nn as nn\n",
        "import torchvision.transforms as transforms\n",
        "import torchvision.datasets as dataset\n",
        "from torch.autograd import Variable\n",
        "from torch.nn import Parameter\n",
        "from torch import Tensor\n",
        "import torch.nn.functional as F\n",
        "from torch.utils.data import DataLoader\n",
        "import math\n",
        "\n",
        "device = torch.device('cuda:0' if torch.cuda.is_available() else 'cpu')\n",
        "cuda = True if torch.cuda.is_available() else False\n",
        "\n",
        "Tensor = torch.cuda.FloatTensor if cuda else torch.FloatTensor\n",
        "\n",
        "torch.manual_seed(125)\n",
        "if torch.cuda.is_available():\n",
        "    torch.cuda.manual_seed_all(125)"
      ],
      "metadata": {
        "id": "f5xvafwEhZ5P"
      },
      "execution_count": 33,
      "outputs": []
    },
    {
      "cell_type": "markdown",
      "source": [
        "### 데이터 전처리"
      ],
      "metadata": {
        "id": "j3BPcSjehbGV"
      }
    },
    {
      "cell_type": "code",
      "source": [
        "mnist_transform = transforms.Compose([\n",
        "    transforms.ToTensor(),\n",
        "    transforms.Normalize((0.5,), (1.0,))\n",
        "])"
      ],
      "metadata": {
        "id": "Hm6_X2wVhccA"
      },
      "execution_count": 34,
      "outputs": []
    },
    {
      "cell_type": "markdown",
      "source": [
        "### 데이터셋 내려받기 및 전처리 적용"
      ],
      "metadata": {
        "id": "7pAxdDi3hdz_"
      }
    },
    {
      "cell_type": "code",
      "source": [
        "from torchvision.datasets import MNIST\n",
        "download_root = 'MNIST_DATASET/'\n",
        "\n",
        "train_dataset = MNIST(download_root, transform=mnist_transform, train=True, download=True)\n",
        "valid_dataset = MNIST(download_root, transform=mnist_transform, train=False, download=True)\n",
        "test_dataset = MNIST(download_root, transform=mnist_transform, train=False, download=True)"
      ],
      "metadata": {
        "id": "sHgNGIechgEB"
      },
      "execution_count": 35,
      "outputs": []
    },
    {
      "cell_type": "markdown",
      "source": [
        "### 데이터셋 메모리로 가져오기"
      ],
      "metadata": {
        "id": "ceZM7q_ohg5J"
      }
    },
    {
      "cell_type": "code",
      "source": [
        "batch_size = 64\n",
        "\n",
        "train_loader = DataLoader(dataset=train_dataset,\n",
        "                         batch_size=batch_size,\n",
        "                         shuffle=True)\n",
        "valid_loader = DataLoader(dataset=test_dataset,\n",
        "                         batch_size=batch_size,\n",
        "                         shuffle=True)\n",
        "test_loader = DataLoader(dataset=test_dataset,\n",
        "                         batch_size=batch_size,\n",
        "                         shuffle=True)"
      ],
      "metadata": {
        "id": "y5RrBETYhi_U"
      },
      "execution_count": 36,
      "outputs": []
    },
    {
      "cell_type": "markdown",
      "source": [
        "### 변수 값 설정"
      ],
      "metadata": {
        "id": "gqdRRAZuhm2a"
      }
    },
    {
      "cell_type": "code",
      "source": [
        "batch_size = 100\n",
        "n_iters = 6000\n",
        "num_epochs = n_iters / (len(train_dataset) / batch_size)\n",
        "num_epochs = int(num_epochs)"
      ],
      "metadata": {
        "id": "CvY71fyXhons"
      },
      "execution_count": 37,
      "outputs": []
    },
    {
      "cell_type": "markdown",
      "source": [
        "### GRU 셀 네트워크"
      ],
      "metadata": {
        "id": "Ecdm661Shpo9"
      }
    },
    {
      "cell_type": "code",
      "source": [
        "class GRUCell(nn.Module):\n",
        "  def __init__(self, input_size, hidden_size, bias=True):\n",
        "    super(GRUCell, self).__init__()\n",
        "    self.input_size = input_size\n",
        "    self.hidden_size = hidden_size\n",
        "    self.bias = bias\n",
        "    self.x2h = nn.Linear(input_size, 3 * hidden_size, bias=bias)\n",
        "    # LSTM셀에서는 4를 곱했지만 GRU셀에서는 3개의 게이트가 사용되므로 3을 곱함\n",
        "    # 엄밀히 게이트는 두 개(망각, 입력 게이트)이지만 탄젠트 활성화 함수가 적용되는\n",
        "    # 부분을 '새로운 게이트(newgate)'로 정의하여 총 3을 곱함\n",
        "    self.h2h = nn.Linear(hidden_size, 3 * hidden_size, bias=bias)\n",
        "    self.reset_parameters()\n",
        "\n",
        "  def reset_parameters(self): # 파라미터 초기화\n",
        "    std = 1.0 / math.sqrt(self.hidden_size)\n",
        "    for w in self.parameters():\n",
        "      w.data.uniform_(-std, std)\n",
        "\n",
        "  def forward(self, x, hidden):\n",
        "    x = x.view(-1, x.size(1))\n",
        "    gate_x = self.x2h(x) # LSTM셀에서는 gates를 x2h + h2h로 정의했지만 GRU셀에서는 개별적인 상태를 유지\n",
        "    gate_h = self.h2h(hidden)\n",
        "    gate_x = gate_x.squeeze()\n",
        "    gate_h = gate_h.squeeze()\n",
        "\n",
        "    i_r, i_i, i_n = gate_x.chunk(3, 1) # 총 세 개의 게이트(망각, 입력, 새로운 게이트)를 위해 세 개로 쪼개짐\n",
        "    h_r, h_i, h_n = gate_h.chunk(3, 1)\n",
        "\n",
        "    resetgate = F.sigmoid(i_r + h_r)\n",
        "    inputgate = F.sigmoid(i_i + h_i)\n",
        "    newgate = F.tanh(i_n + (resetgate * h_n)) # '새로운 게이트'는 탄젠트 활성화 함수가 적용된 게이트\n",
        "\n",
        "    hy = newgate + inputgate * (hidden - newgate)\n",
        "    return hy"
      ],
      "metadata": {
        "id": "MMtfxZwWhtcq"
      },
      "execution_count": 46,
      "outputs": []
    },
    {
      "cell_type": "markdown",
      "source": [
        "### 전반적인 네트워크 구조"
      ],
      "metadata": {
        "id": "Na2we797i_RG"
      }
    },
    {
      "cell_type": "code",
      "source": [
        "class GRUModel(nn.Module):\n",
        "  def __init__(self, input_dim, hidden_dim, layer_dim, output_dim, bias=True):\n",
        "    super(GRUModel, self).__init__()\n",
        "    self.hidden_dim = hidden_dim\n",
        "    self.layer_dim = layer_dim\n",
        "    self.gru_cell = GRUCell(input_dim, hidden_dim, layer_dim) # 앞에서 정의한 GRU Cell 함수로 불러옴\n",
        "    self.fc = nn.Linear(hidden_dim, output_dim)\n",
        "\n",
        "  def forward(self, x):\n",
        "    if torch.cuda.is_available():\n",
        "      h0 = Variable(torch.zeros(self.layer_dim, x.size(0), self.hidden_dim).cuda())\n",
        "    else:\n",
        "      h0 = Variable(torch.zeros(self.layer_dim, x.size(0), self.hidden_dim))\n",
        "\n",
        "    outs = []\n",
        "    hn = h0[0,:,:] # LSTM셀에서는 셀 상태에 대해서도 정의했었지만 GRU 셀에서는 셀은 사용되지않음\n",
        "\n",
        "    for seq in range(x.size(1)):\n",
        "      hn = self.gru_cell(x[:,seq,:], hn)\n",
        "      outs.append(hn)\n",
        "\n",
        "    out = outs[-1].squeeze()\n",
        "    out = self.fc(out)\n",
        "    return out"
      ],
      "metadata": {
        "id": "Hh3eENWNjw-v"
      },
      "execution_count": 47,
      "outputs": []
    },
    {
      "cell_type": "markdown",
      "source": [
        "### 옵티마이저와 손실 함수 설정"
      ],
      "metadata": {
        "id": "-SAeOLEHkHex"
      }
    },
    {
      "cell_type": "code",
      "source": [
        "input_dim = 28\n",
        "hidden_dim = 128\n",
        "layer_dim = 1\n",
        "output_dim = 10\n",
        "\n",
        "model = GRUModel(input_dim, hidden_dim, layer_dim, output_dim)\n",
        "\n",
        "if torch.cuda.is_available():\n",
        "  model.cuda()\n",
        "\n",
        "criterion = nn.CrossEntropyLoss()\n",
        "learning_rate = 0.1\n",
        "optimizer = torch.optim.SGD(model.parameters(), lr=learning_rate)"
      ],
      "metadata": {
        "id": "YcfWCy9CkKWv"
      },
      "execution_count": 48,
      "outputs": []
    },
    {
      "cell_type": "markdown",
      "source": [
        "### 모델 학습 및 성능 검증"
      ],
      "metadata": {
        "id": "1zeXHmp3kNfO"
      }
    },
    {
      "cell_type": "code",
      "source": [
        "seq_dim = 28\n",
        "loss_list = []\n",
        "iter = 0\n",
        "for epoch in range(num_epochs):\n",
        "    for i, (images, labels) in enumerate(train_loader):\n",
        "        if torch.cuda.is_available():\n",
        "            images = Variable(images.view(-1, seq_dim, input_dim).cuda())\n",
        "            labels = Variable(labels.cuda())\n",
        "        else:\n",
        "            images = Variable(images.view(-1, seq_dim, input_dim))\n",
        "            labels = Variable(labels)\n",
        "\n",
        "        optimizer.zero_grad()\n",
        "        outputs = model(images)\n",
        "        loss = criterion(outputs, labels)\n",
        "\n",
        "        if torch.cuda.is_available():\n",
        "            loss.cuda()\n",
        "\n",
        "        loss.backward()\n",
        "        optimizer.step()\n",
        "\n",
        "        loss_list.append(loss.item())\n",
        "        iter += 1\n",
        "\n",
        "        if iter % 500 == 0:\n",
        "            correct = 0\n",
        "            total = 0\n",
        "            for images, labels in valid_loader:\n",
        "                if torch.cuda.is_available():\n",
        "                    images = Variable(images.view(-1, seq_dim, input_dim).cuda())\n",
        "                else:\n",
        "                    images = Variable(images.view(-1 , seq_dim, input_dim))\n",
        "\n",
        "                outputs = model(images)\n",
        "                _, predicted = torch.max(outputs.data, 1)\n",
        "                total += labels.size(0)\n",
        "\n",
        "                if torch.cuda.is_available():\n",
        "                    correct += (predicted.cpu() == labels.cpu()).sum()\n",
        "                else:\n",
        "                    correct += (predicted == labels).sum()\n",
        "\n",
        "            accuracy = 100 * correct / total\n",
        "            print('Iteration: {}. Loss: {}. Accuracy: {}'.format(iter, loss.item(), accuracy))"
      ],
      "metadata": {
        "colab": {
          "base_uri": "https://localhost:8080/"
        },
        "id": "0tvQX4ixkPG0",
        "outputId": "dba3218b-7570-4cda-dc29-095482a3c55f"
      },
      "execution_count": 51,
      "outputs": [
        {
          "output_type": "stream",
          "name": "stdout",
          "text": [
            "Iteration: 500. Loss: 0.6724593043327332. Accuracy: 85.0\n",
            "Iteration: 1000. Loss: 0.35811829566955566. Accuracy: 90.05999755859375\n",
            "Iteration: 1500. Loss: 0.3955090343952179. Accuracy: 92.48999786376953\n",
            "Iteration: 2000. Loss: 0.10709834843873978. Accuracy: 95.04000091552734\n",
            "Iteration: 2500. Loss: 0.11268039047718048. Accuracy: 95.77999877929688\n",
            "Iteration: 3000. Loss: 0.32674214243888855. Accuracy: 96.16000366210938\n",
            "Iteration: 3500. Loss: 0.03186342865228653. Accuracy: 96.97000122070312\n",
            "Iteration: 4000. Loss: 0.13673268258571625. Accuracy: 96.91000366210938\n",
            "Iteration: 4500. Loss: 0.02443329431116581. Accuracy: 97.23999786376953\n",
            "Iteration: 5000. Loss: 0.06422528624534607. Accuracy: 97.69999694824219\n",
            "Iteration: 5500. Loss: 0.08957058936357498. Accuracy: 97.88999938964844\n",
            "Iteration: 6000. Loss: 0.06529176980257034. Accuracy: 97.81999969482422\n",
            "Iteration: 6500. Loss: 0.08784162998199463. Accuracy: 97.69000244140625\n",
            "Iteration: 7000. Loss: 0.07583820819854736. Accuracy: 97.9800033569336\n",
            "Iteration: 7500. Loss: 0.03632502257823944. Accuracy: 98.04000091552734\n",
            "Iteration: 8000. Loss: 0.014668554067611694. Accuracy: 98.27999877929688\n",
            "Iteration: 8500. Loss: 0.09245023876428604. Accuracy: 98.23999786376953\n",
            "Iteration: 9000. Loss: 0.041427288204431534. Accuracy: 98.12000274658203\n"
          ]
        }
      ]
    },
    {
      "cell_type": "markdown",
      "source": [
        "### 테스트 데이터셋을 이용한 모델 예측"
      ],
      "metadata": {
        "id": "1R04AjxDkcRD"
      }
    },
    {
      "cell_type": "code",
      "source": [
        "def evaluate(model, val_iter):\n",
        "    corrects, total, total_loss = 0, 0, 0\n",
        "    model.eval()\n",
        "    for images, labels in val_iter:\n",
        "        if torch.cuda.is_available():\n",
        "            images = Variable(images.view(-1, seq_dim, input_dim).cuda())\n",
        "        else:\n",
        "            images = Variable(images.view(-1 , seq_dim, input_dim)).to(device)\n",
        "        labels = labels.cuda()\n",
        "        logit = model(images).cuda()\n",
        "        loss = F.cross_entropy(logit, labels, reduction = \"sum\")\n",
        "        _, predicted = torch.max(logit.data, 1)\n",
        "        total += labels.size(0)\n",
        "        total_loss += loss.item()\n",
        "        corrects += (predicted == labels).sum()\n",
        "\n",
        "    avg_loss = total_loss / len(val_iter.dataset)\n",
        "    avg_accuracy = corrects / total\n",
        "    return avg_loss, avg_accuracy"
      ],
      "metadata": {
        "id": "4RsON7tQlFpz"
      },
      "execution_count": 52,
      "outputs": []
    },
    {
      "cell_type": "markdown",
      "source": [
        "### 모델 예측 결과"
      ],
      "metadata": {
        "id": "r2DnvJKflLx1"
      }
    },
    {
      "cell_type": "code",
      "source": [
        "test_loss, test_acc = evaluate(model,test_loader)\n",
        "print(\"Test Loss: %5.2f | Test Accuracy: %5.2f\" % (test_loss, test_acc))"
      ],
      "metadata": {
        "colab": {
          "base_uri": "https://localhost:8080/"
        },
        "id": "33FO428IlNVv",
        "outputId": "cd414cd8-142e-4e1e-d730-5fce719ba59a"
      },
      "execution_count": 53,
      "outputs": [
        {
          "output_type": "stream",
          "name": "stdout",
          "text": [
            "Test Loss:  0.05 | Test Accuracy:  0.98\n"
          ]
        }
      ]
    },
    {
      "cell_type": "markdown",
      "source": [
        "# GRU"
      ],
      "metadata": {
        "id": "T4MeVSeslODh"
      }
    },
    {
      "cell_type": "markdown",
      "source": [
        "### 라이브러리 호출"
      ],
      "metadata": {
        "id": "Mm_V1On3lRII"
      }
    },
    {
      "cell_type": "code",
      "source": [
        "import os\n",
        "import time\n",
        "\n",
        "import numpy as np\n",
        "import pandas as pd\n",
        "import matplotlib.pyplot as plt\n",
        "\n",
        "import torch\n",
        "import torch.nn as nn\n",
        "from torch.utils.data import TensorDataset, DataLoader\n",
        "from torch.autograd import Variable\n",
        "from tqdm import tqdm_notebook\n",
        "from sklearn.preprocessing import StandardScaler, MinMaxScaler\n",
        "from sklearn.model_selection import train_test_split\n",
        "\n",
        "device = torch.device('cuda:0' if torch.cuda.is_available() else 'cpu')"
      ],
      "metadata": {
        "id": "k4COrDAMlXWZ"
      },
      "execution_count": 54,
      "outputs": []
    },
    {
      "cell_type": "markdown",
      "source": [
        "### 데이터셋 불러오기"
      ],
      "metadata": {
        "id": "L5P7z4uwlZQp"
      }
    },
    {
      "cell_type": "code",
      "source": [
        "data=pd.read_csv('/content/drive/MyDrive/DL_pytorch/chap07/data/SBUX.csv')\n",
        "print(data.dtypes)"
      ],
      "metadata": {
        "colab": {
          "base_uri": "https://localhost:8080/"
        },
        "id": "X9gWF9aqlbn5",
        "outputId": "10451e00-2811-4999-998c-09e7fe93c99a"
      },
      "execution_count": 55,
      "outputs": [
        {
          "output_type": "stream",
          "name": "stdout",
          "text": [
            "Date          object\n",
            "Open         float64\n",
            "High         float64\n",
            "Low          float64\n",
            "Close        float64\n",
            "Adj Close    float64\n",
            "Volume         int64\n",
            "dtype: object\n"
          ]
        }
      ]
    },
    {
      "cell_type": "markdown",
      "source": [
        "### 인덱스 설정 및 데이터 타입 변경"
      ],
      "metadata": {
        "id": "7KdeV9e8ldFb"
      }
    },
    {
      "cell_type": "code",
      "source": [
        "data['Date'] = pd.to_datetime(data['Date'])\n",
        "data.set_index('Date', inplace=True)\n",
        "data['Volume'] = data['Volume'].astype(float)"
      ],
      "metadata": {
        "id": "mY4WjXO4lfYJ"
      },
      "execution_count": 56,
      "outputs": []
    },
    {
      "cell_type": "markdown",
      "source": [
        "### 훈련과 레이블 데이터셋 분리"
      ],
      "metadata": {
        "id": "KoP34K8llgX_"
      }
    },
    {
      "cell_type": "code",
      "source": [
        "X=data.iloc[:,:-1]\n",
        "y=data.iloc[:,5:6]\n",
        "\n",
        "print(X)\n",
        "print(y)"
      ],
      "metadata": {
        "colab": {
          "base_uri": "https://localhost:8080/"
        },
        "id": "b1aOqw5NljVA",
        "outputId": "6642b20f-978c-4c5f-f5b8-47ec7421161a"
      },
      "execution_count": 57,
      "outputs": [
        {
          "output_type": "stream",
          "name": "stdout",
          "text": [
            "                  Open        High         Low       Close   Adj Close\n",
            "Date                                                                  \n",
            "2019-12-11   86.260002   86.870003   85.849998   86.589996   84.145752\n",
            "2019-12-12   88.000000   88.889999   87.540001   88.209999   85.720032\n",
            "2019-12-13   88.019997   88.790001   87.580002   88.669998   86.167046\n",
            "2019-12-16   89.139999   89.300003   88.430000   88.779999   86.273941\n",
            "2019-12-17   88.870003   88.970001   87.470001   88.129997   85.642288\n",
            "...                ...         ...         ...         ...         ...\n",
            "2020-12-04  101.349998  102.940002  101.070000  102.279999  101.442787\n",
            "2020-12-07  102.010002  102.220001  100.690002  101.410004  100.579918\n",
            "2020-12-08  100.370003  101.570000  100.010002  101.209999  100.381554\n",
            "2020-12-09  101.940002  102.209999  100.099998  100.400002   99.578186\n",
            "2020-12-10  103.510002  106.089996  102.750000  105.389999  104.527336\n",
            "\n",
            "[253 rows x 5 columns]\n",
            "                Volume\n",
            "Date                  \n",
            "2019-12-11   4921900.0\n",
            "2019-12-12  10282100.0\n",
            "2019-12-13   6714100.0\n",
            "2019-12-16   6705600.0\n",
            "2019-12-17   7296900.0\n",
            "...                ...\n",
            "2020-12-04   6952700.0\n",
            "2020-12-07   4514800.0\n",
            "2020-12-08   3911300.0\n",
            "2020-12-09   6629900.0\n",
            "2020-12-10  12939200.0\n",
            "\n",
            "[253 rows x 1 columns]\n"
          ]
        }
      ]
    },
    {
      "cell_type": "markdown",
      "source": [
        "### 훈련과 테스트 데이터셋 정규화"
      ],
      "metadata": {
        "id": "RAdzu9o9lkjK"
      }
    },
    {
      "cell_type": "code",
      "source": [
        "ms = MinMaxScaler()\n",
        "ss = StandardScaler()\n",
        "\n",
        "X_ss = ss.fit_transform(X)\n",
        "y_ms = ms.fit_transform(y)\n",
        "\n",
        "X_train = X_ss[:200, :]\n",
        "X_test = X_ss[200:, :]\n",
        "\n",
        "y_train = y_ms[:200, :]\n",
        "y_test = y_ms[200:, :]\n",
        "\n",
        "print(\"Training Shape\", X_train.shape, y_train.shape)\n",
        "print(\"Testing Shape\", X_test.shape, y_test.shape)"
      ],
      "metadata": {
        "colab": {
          "base_uri": "https://localhost:8080/"
        },
        "id": "ro2yfN0mlm4E",
        "outputId": "aabe6ccc-b3ee-4a73-ddcd-b7240a2ebec7"
      },
      "execution_count": 58,
      "outputs": [
        {
          "output_type": "stream",
          "name": "stdout",
          "text": [
            "Training Shape (200, 5) (200, 1)\n",
            "Testing Shape (53, 5) (53, 1)\n"
          ]
        }
      ]
    },
    {
      "cell_type": "markdown",
      "source": [
        "### 데이터셋 형태 변경"
      ],
      "metadata": {
        "id": "ww4rJapwlpi9"
      }
    },
    {
      "cell_type": "code",
      "source": [
        "X_train_tensors = Variable(torch.Tensor(X_train))\n",
        "X_test_tensors = Variable(torch.Tensor(X_test))\n",
        "\n",
        "y_train_tensors = Variable(torch.Tensor(y_train))\n",
        "y_test_tensors = Variable(torch.Tensor(y_test))\n",
        "\n",
        "X_train_tensors_f = torch.reshape(X_train_tensors,   (X_train_tensors.shape[0], 1, X_train_tensors.shape[1]))\n",
        "X_test_tensors_f = torch.reshape(X_test_tensors,  (X_test_tensors.shape[0], 1, X_test_tensors.shape[1]))\n",
        "\n",
        "print(\"Training Shape\", X_train_tensors_f.shape, y_train_tensors.shape)\n",
        "print(\"Testing Shape\", X_test_tensors_f.shape, y_test_tensors.shape)"
      ],
      "metadata": {
        "colab": {
          "base_uri": "https://localhost:8080/"
        },
        "id": "JeBFCEkols0o",
        "outputId": "61e9db86-fba6-45a7-fa29-7704f519d1d6"
      },
      "execution_count": 59,
      "outputs": [
        {
          "output_type": "stream",
          "name": "stdout",
          "text": [
            "Training Shape torch.Size([200, 1, 5]) torch.Size([200, 1])\n",
            "Testing Shape torch.Size([53, 1, 5]) torch.Size([53, 1])\n"
          ]
        }
      ]
    },
    {
      "cell_type": "markdown",
      "source": [
        "### GRU 모델의 네트워크"
      ],
      "metadata": {
        "id": "fi8y4uqZluCl"
      }
    },
    {
      "cell_type": "code",
      "source": [
        "class GRU(nn.Module):\n",
        "  def __init__(self, num_classes, input_size, hidden_size, num_layers, seq_length):\n",
        "    super(GRU, self).__init__()\n",
        "    self.num_classes = num_classes\n",
        "    self.num_layers = num_layers\n",
        "    self.input_size = input_size\n",
        "    self.hidden_size = hidden_size\n",
        "    self.seq_length = seq_length\n",
        "\n",
        "    self.gru = nn.GRU(input_size=input_size, hidden_size=hidden_size,\n",
        "                      num_layers=num_layers, batch_first=True)\n",
        "    self.fc_1 =  nn.Linear(hidden_size, 128)\n",
        "    self.fc = nn.Linear(128, num_classes)\n",
        "    self.relu = nn.ReLU()\n",
        "\n",
        "  def forward(self,x):\n",
        "    h_0 = Variable(torch.zeros(self.num_layers, x.size(0), self.hidden_size))\n",
        "    # 은닉 상태에 대해 0으로 초기화하는 부분으로, LSTM계층은 셀 상태가 있었지만 GRU는 셀 상태를 정의하지 않음\n",
        "    output, (hn) = self.gru(x, (h_0))\n",
        "    hn = hn.view(-1, self.hidden_size)\n",
        "    out = self.relu(hn)\n",
        "    out = self.fc_1(out)\n",
        "    out = self.relu(out)\n",
        "    out = self.fc(out)\n",
        "    return out"
      ],
      "metadata": {
        "id": "HzEmgpCslwNd"
      },
      "execution_count": 60,
      "outputs": []
    },
    {
      "cell_type": "markdown",
      "source": [
        "### 옵티마이저와 손실 함수 지정"
      ],
      "metadata": {
        "id": "TMNyRJtQocu4"
      }
    },
    {
      "cell_type": "code",
      "source": [
        "num_epochs = 1000\n",
        "learning_rate = 0.0001\n",
        "\n",
        "input_size = 5\n",
        "hidden_size = 2\n",
        "num_layers = 1 # GRU 계층의 개수\n",
        "\n",
        "num_classes = 1\n",
        "model = GRU(num_classes, input_size, hidden_size, num_layers, X_train_tensors_f.shape[1])\n",
        "\n",
        "criterion = torch.nn.MSELoss()\n",
        "optimizer = torch.optim.Adam(model.parameters(), lr=learning_rate)"
      ],
      "metadata": {
        "id": "FdtIkEbMogfK"
      },
      "execution_count": 63,
      "outputs": []
    },
    {
      "cell_type": "markdown",
      "source": [
        "### 모델 학습"
      ],
      "metadata": {
        "id": "WaCHH1ImoiSF"
      }
    },
    {
      "cell_type": "code",
      "source": [
        "for epoch in range(num_epochs):\n",
        "  outputs = model.forward(X_train_tensors_f)\n",
        "  optimizer.zero_grad()\n",
        "  loss = criterion(outputs, y_train_tensors)\n",
        "  loss.backward()\n",
        "\n",
        "  optimizer.step()\n",
        "  if epoch % 100 == 0:\n",
        "    print(\"Epoch: %d, loss: %1.5f\" % (epoch, loss.item()))"
      ],
      "metadata": {
        "colab": {
          "base_uri": "https://localhost:8080/"
        },
        "id": "xCdTkDy_o1Bc",
        "outputId": "155ce10e-4bde-42c9-ba73-d8785da24c69"
      },
      "execution_count": 64,
      "outputs": [
        {
          "output_type": "stream",
          "name": "stdout",
          "text": [
            "Epoch: 0, loss: 0.08132\n",
            "Epoch: 100, loss: 0.03357\n",
            "Epoch: 200, loss: 0.03165\n",
            "Epoch: 300, loss: 0.03049\n",
            "Epoch: 400, loss: 0.02930\n",
            "Epoch: 500, loss: 0.02807\n",
            "Epoch: 600, loss: 0.02689\n",
            "Epoch: 700, loss: 0.02560\n",
            "Epoch: 800, loss: 0.02415\n",
            "Epoch: 900, loss: 0.02274\n"
          ]
        }
      ]
    },
    {
      "cell_type": "markdown",
      "source": [
        "### 그래프 출력을 위한 전처리"
      ],
      "metadata": {
        "id": "TcjiU_0Eo4Kn"
      }
    },
    {
      "cell_type": "code",
      "source": [
        "df_x_ss = ss.transform(data.iloc[:, :-1])\n",
        "df_y_ms = ms.transform(data.iloc[:, -1:])\n",
        "\n",
        "df_x_ss = Variable(torch.Tensor(df_x_ss))\n",
        "df_y_ms = Variable(torch.Tensor(df_y_ms))\n",
        "df_x_ss = torch.reshape(df_x_ss, (df_x_ss.shape[0], 1, df_x_ss.shape[1]))"
      ],
      "metadata": {
        "id": "6oqRGMFno6gJ"
      },
      "execution_count": 65,
      "outputs": []
    },
    {
      "cell_type": "markdown",
      "source": [
        "### 모델 예측 결과 출력"
      ],
      "metadata": {
        "id": "uJmtehG8pSlq"
      }
    },
    {
      "cell_type": "code",
      "source": [
        "train_predict = model(df_x_ss)\n",
        "predicted = train_predict.data.numpy()\n",
        "label_y = df_y_ms.data.numpy()\n",
        "\n",
        "predicted = ms.inverse_transform(predicted)\n",
        "label_y = ms.inverse_transform(label_y)\n",
        "plt.figure(figsize=(10,6))\n",
        "plt.axvline(x=200, c='r', linestyle='--')\n",
        "\n",
        "plt.plot(label_y, label='Actual Data')\n",
        "plt.plot(predicted, label='Predicted Data')\n",
        "plt.title('Time-Series Prediction')\n",
        "plt.legend()\n",
        "plt.show()"
      ],
      "metadata": {
        "colab": {
          "base_uri": "https://localhost:8080/",
          "height": 545
        },
        "id": "iSZAKP0RpUUY",
        "outputId": "0c87855a-ca4c-404d-ec1f-be8538e1fbe6"
      },
      "execution_count": 66,
      "outputs": [
        {
          "output_type": "display_data",
          "data": {
            "text/plain": [
              "<Figure size 1000x600 with 1 Axes>"
            ],
            "image/png": "[encoded data removed]"
          },
          "metadata": {}
        }
      ]
    },
    {
      "cell_type": "markdown",
      "source": [
        "# 양방향 LSTM"
      ],
      "metadata": {
        "id": "gRO6r8KHpVVx"
      }
    },
    {
      "cell_type": "markdown",
      "source": [
        "### 모델을 생성하고 학습"
      ],
      "metadata": {
        "id": "qeo53EJcpYq4"
      }
    },
    {
      "cell_type": "code",
      "source": [
        "import os\n",
        "import time\n",
        "\n",
        "import numpy as np\n",
        "import pandas as pd\n",
        "import matplotlib.pyplot as plt\n",
        "\n",
        "import torch\n",
        "import torch.nn as nn\n",
        "from torch.utils.data import TensorDataset, DataLoader\n",
        "from torch.autograd import Variable\n",
        "from tqdm import tqdm_notebook\n",
        "from sklearn.preprocessing import MinMaxScaler\n",
        "from sklearn.model_selection import train_test_split\n",
        "\n",
        "device = torch.device('cuda:0' if torch.cuda.is_available() else 'cpu')\n",
        "\n",
        "\n",
        "data=pd.read_csv('/content/drive/MyDrive/DL_pytorch/chap07/data/SBUX.csv')\n",
        "print(data.dtypes)\n",
        "\n",
        "\n",
        "data['Date'] = pd.to_datetime(data['Date'])\n",
        "data.set_index('Date', inplace=True)\n",
        "data['Volume'] = data['Volume'].astype(float)\n",
        "\n",
        "\n",
        "X=data.iloc[:,:-1]\n",
        "y=data.iloc[:,5:6]\n",
        "\n",
        "\n",
        "ms = MinMaxScaler()\n",
        "ss = StandardScaler()\n",
        "\n",
        "X_ss = ss.fit_transform(X)\n",
        "y_ms = ms.fit_transform(y)\n",
        "\n",
        "X_train = X_ss[:200, :]\n",
        "X_test = X_ss[200:, :]\n",
        "\n",
        "y_train = y_ms[:200, :]\n",
        "y_test = y_ms[200:, :]\n",
        "\n",
        "\n",
        "X_train_tensors = Variable(torch.Tensor(X_train))\n",
        "X_test_tensors = Variable(torch.Tensor(X_test))\n",
        "\n",
        "y_train_tensors = Variable(torch.Tensor(y_train))\n",
        "y_test_tensors = Variable(torch.Tensor(y_test))\n",
        "\n",
        "X_train_tensors_f = torch.reshape(X_train_tensors,   (X_train_tensors.shape[0], 1, X_train_tensors.shape[1]))\n",
        "X_test_tensors_f = torch.reshape(X_test_tensors,  (X_test_tensors.shape[0], 1, X_test_tensors.shape[1]))\n",
        "\n",
        "print(\"Training Shape\", X_train_tensors_f.shape, y_train_tensors.shape)\n",
        "print(\"Testing Shape\", X_test_tensors_f.shape, y_test_tensors.shape)"
      ],
      "metadata": {
        "colab": {
          "base_uri": "https://localhost:8080/"
        },
        "id": "MP15-YQAsBAf",
        "outputId": "e3a36b7a-fe5f-4f5d-c8c0-348020fb2a86"
      },
      "execution_count": 67,
      "outputs": [
        {
          "output_type": "stream",
          "name": "stdout",
          "text": [
            "Date          object\n",
            "Open         float64\n",
            "High         float64\n",
            "Low          float64\n",
            "Close        float64\n",
            "Adj Close    float64\n",
            "Volume         int64\n",
            "dtype: object\n",
            "Training Shape torch.Size([200, 1, 5]) torch.Size([200, 1])\n",
            "Testing Shape torch.Size([53, 1, 5]) torch.Size([53, 1])\n"
          ]
        }
      ]
    },
    {
      "cell_type": "markdown",
      "source": [
        "### 모델의 네트워크"
      ],
      "metadata": {
        "id": "KKci5WIzsR53"
      }
    },
    {
      "cell_type": "code",
      "source": [
        "class biLSTM(nn.Module):\n",
        "  def __init__(self, num_classes, input_size, hidden_size, num_layers, seq_length):\n",
        "    super(biLSTM, self).__init__()\n",
        "    self.num_classes = num_classes\n",
        "    self.num_layers = num_layers\n",
        "    self.input_size = input_size\n",
        "    self.hidden_size = hidden_size\n",
        "    self.seq_length = seq_length\n",
        "\n",
        "    self.lstm = nn.LSTM(input_size=input_size, hidden_size=hidden_size,\n",
        "                      num_layers=num_layers, bidirectional=True, batch_first=True)\n",
        "    self.fc =  nn.Linear(hidden_size*2, num_classes)\n",
        "    self.relu = nn.ReLU()\n",
        "    # bidirectional=True : 양방향 LSTM을 사용하겠다는 의미\n",
        "    # 양방향 RNN, 양방향 GRU 모두 해당됨\n",
        "\n",
        "  def forward(self,x):\n",
        "    h_0 = Variable(torch.zeros(self.num_layers*2, x.size(0), self.hidden_size))\n",
        "    c_0 = Variable(torch.zeros(self.num_layers*2, x.size(0), self.hidden_size))\n",
        "    out, _ = self.lstm(x, (h_0, c_0))\n",
        "    out = self.fc(out[:, -1, :]) # 마지막시간(time step상 마지막 단계)의 은닉 상태\n",
        "    out = self.relu(out)\n",
        "    return out"
      ],
      "metadata": {
        "id": "aq_q6VO5sUwT"
      },
      "execution_count": 68,
      "outputs": []
    },
    {
      "cell_type": "markdown",
      "source": [
        "### 모델 학습"
      ],
      "metadata": {
        "id": "1GheRgUQttUo"
      }
    },
    {
      "cell_type": "code",
      "source": [
        "num_epochs = 1000\n",
        "learning_rate = 0.0001\n",
        "\n",
        "input_size = 5\n",
        "hidden_size = 2\n",
        "num_layers = 1\n",
        "\n",
        "num_classes = 1\n",
        "model = biLSTM(num_classes, input_size, hidden_size, num_layers, X_train_tensors_f.shape[1])\n",
        "\n",
        "criterion = torch.nn.MSELoss()\n",
        "optimizer = torch.optim.Adam(model.parameters(), lr=learning_rate)"
      ],
      "metadata": {
        "id": "2ki4WnyQtu3V"
      },
      "execution_count": 69,
      "outputs": []
    },
    {
      "cell_type": "code",
      "source": [
        "for epoch in range(num_epochs):\n",
        "  outputs = model.forward(X_train_tensors_f)\n",
        "  optimizer.zero_grad()\n",
        "\n",
        "  loss = criterion(outputs, y_train_tensors)\n",
        "  loss.backward()\n",
        "  optimizer.step()\n",
        "\n",
        "  if epoch % 100 == 0:\n",
        "    print(\"Epoch: %d, loss: %1.5f\" % (epoch, loss.item()))"
      ],
      "metadata": {
        "colab": {
          "base_uri": "https://localhost:8080/"
        },
        "id": "d8VvYckctyaD",
        "outputId": "e82b82f5-3db6-42a2-bed4-1fdb2e4e58a3"
      },
      "execution_count": 70,
      "outputs": [
        {
          "output_type": "stream",
          "name": "stdout",
          "text": [
            "Epoch: 0, loss: 0.13592\n",
            "Epoch: 100, loss: 0.12963\n",
            "Epoch: 200, loss: 0.12145\n",
            "Epoch: 300, loss: 0.11395\n",
            "Epoch: 400, loss: 0.10432\n",
            "Epoch: 500, loss: 0.09031\n",
            "Epoch: 600, loss: 0.07544\n",
            "Epoch: 700, loss: 0.06317\n",
            "Epoch: 800, loss: 0.05518\n",
            "Epoch: 900, loss: 0.05020\n"
          ]
        }
      ]
    },
    {
      "cell_type": "markdown",
      "source": [
        "### 모델 평가"
      ],
      "metadata": {
        "id": "Iff3khEMt1Eu"
      }
    },
    {
      "cell_type": "code",
      "source": [
        "df_x_ss = ss.transform(data.iloc[:, :-1])\n",
        "df_y_ms = ms.transform(data.iloc[:, -1:])\n",
        "\n",
        "df_x_ss = Variable(torch.Tensor(df_x_ss))\n",
        "df_y_ms = Variable(torch.Tensor(df_y_ms))\n",
        "df_x_ss = torch.reshape(df_x_ss, (df_x_ss.shape[0], 1, df_x_ss.shape[1]))\n",
        "\n",
        "\n",
        "train_predict = model(df_x_ss)\n",
        "predicted = train_predict.data.numpy()\n",
        "label_y = df_y_ms.data.numpy()\n",
        "\n",
        "predicted = ms.inverse_transform(predicted)\n",
        "label_y = ms.inverse_transform(label_y)\n",
        "plt.figure(figsize=(10,6))\n",
        "plt.axvline(x=200, c='r', linestyle='--')\n",
        "\n",
        "plt.plot(label_y, label='Actual Data')\n",
        "plt.plot(predicted, label='Predicted Data')\n",
        "plt.title('Time-Series Prediction')\n",
        "plt.legend()\n",
        "plt.show()"
      ],
      "metadata": {
        "colab": {
          "base_uri": "https://localhost:8080/",
          "height": 545
        },
        "id": "vq_GMlPXt26v",
        "outputId": "86cfe778-a3e0-4e82-ad82-ff13d9540d39"
      },
      "execution_count": 71,
      "outputs": [
        {
          "output_type": "display_data",
          "data": {
            "text/plain": [
              "<Figure size 1000x600 with 1 Axes>"
            ],
            "image/png": "[encoded data removed]"
          },
          "metadata": {}
        }
      ]
    },
    {
      "cell_type": "code",
      "source": [],
      "metadata": {
        "id": "mxOwEmqVt6bl"
      },
      "execution_count": null,
      "outputs": []
    }
  ]
}